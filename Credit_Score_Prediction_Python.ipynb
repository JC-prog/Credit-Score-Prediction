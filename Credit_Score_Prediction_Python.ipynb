{
 "cells": [
  {
   "cell_type": "markdown",
   "metadata": {
    "id": "bjN7VYIczMM7"
   },
   "source": [
    "# Requirements"
   ]
  },
  {
   "cell_type": "markdown",
   "metadata": {
    "id": "iJSIM0_sEEtt"
   },
   "source": [
    "1. This is a classification problem.\n",
    "2. Use stratified sampling to select 80% data for training and 20% for testing.\n",
    "3. Main steps of the project are\n",
    "(a) “discover and visualise the data”,\n",
    "(b) “prepare the data for machine learning algorithms”,\n",
    "(c) “select and train models”,\n",
    "(d) “fine-tune the models” and\n",
    "(e) “evaluate the outcomes”. You can structure the project in your own way. Some steps can be performed more than once.\n",
    "4. In the steps (c) and (d) above, you must work with at least three machine learning algorithms.\n",
    "5. Explanation of each step together with the Python codes must be included.\n",
    "6. A comparison of the models’ performance must be included.\n",
    "7. Based on your experience in the assignments, write a brief report that compares Spark MLlib and Scikit-Learn (e.g., their pros/cons or similarity/difference)."
   ]
  },
  {
   "cell_type": "markdown",
   "metadata": {
    "id": "9L8eG1GhO-2n"
   },
   "source": [
    "# Setup"
   ]
  },
  {
   "cell_type": "code",
   "execution_count": 1,
   "metadata": {
    "colab": {
     "base_uri": "https://localhost:8080/"
    },
    "id": "AU5pWuxYqlt2",
    "outputId": "dd3d2936-8ca3-4bed-dfb8-4e7fe6cb3f3c"
   },
   "outputs": [
    {
     "name": "stdout",
     "output_type": "stream",
     "text": [
      "Requirement already satisfied: pyspark in d:\\anaconda\\lib\\site-packages (3.5.0)\n",
      "Requirement already satisfied: py4j in d:\\anaconda\\lib\\site-packages (0.10.9.7)\n"
     ]
    }
   ],
   "source": [
    "!pip install pyspark py4j"
   ]
  },
  {
   "cell_type": "code",
   "execution_count": 28,
   "metadata": {
    "colab": {
     "base_uri": "https://localhost:8080/"
    },
    "id": "WRio_FTzqzhW",
    "outputId": "5bd93e91-137f-464a-e306-644a45b3f4fa"
   },
   "outputs": [
    {
     "name": "stderr",
     "output_type": "stream",
     "text": [
      "C:\\Users\\jeffr\\AppData\\Local\\Temp\\ipykernel_21284\\2049178025.py:14: MatplotlibDeprecationWarning: The seaborn styles shipped by Matplotlib are deprecated since 3.6, as they no longer correspond to the styles shipped by seaborn. However, they will remain available as 'seaborn-v0_8-<style>'. Alternatively, directly use the seaborn API instead.\n",
      "  plt.style.use(style='seaborn')\n"
     ]
    }
   ],
   "source": [
    "import os\n",
    "import sys\n",
    "os.environ['PYSPARK_PYTHON'] = sys.executable\n",
    "os.environ['PYSPARK_DRIVER_PYTHON'] = sys.executable\n",
    "\n",
    "from pyspark.ml.feature import StandardScaler\n",
    "from pyspark.sql import SparkSession\n",
    "from pyspark.ml import Pipeline\n",
    "import pyspark.sql.functions as F\n",
    "from pyspark.sql import types as T\n",
    "import matplotlib.pyplot as plt\n",
    "import seaborn as sns\n",
    "import pandas as pd\n",
    "plt.style.use(style='seaborn')\n",
    "\n",
    "from pyspark.ml.feature import StandardScaler\n",
    "from pyspark.ml.feature import StringIndexer, VectorAssembler\n",
    "from pyspark.ml import Pipeline\n",
    "from pyspark.ml.classification import RandomForestClassifier, LogisticRegression, NaiveBayes\n",
    "from pyspark.ml.evaluation import BinaryClassificationEvaluator, MulticlassClassificationEvaluator\n",
    "from pyspark.ml.tuning import ParamGridBuilder, CrossValidator\n",
    "from pyspark.mllib.evaluation import BinaryClassificationMetrics\n",
    "\n",
    "from pyspark.sql.functions import *\n",
    "from pyspark.ml.feature import VectorAssembler"
   ]
  },
  {
   "cell_type": "code",
   "execution_count": 3,
   "metadata": {
    "id": "npo586FDr9Ok"
   },
   "outputs": [],
   "source": [
    "\n",
    "# build spark session\n",
    "spark = SparkSession.builder.appName(\"mySparkSession\").getOrCreate()"
   ]
  },
  {
   "cell_type": "markdown",
   "metadata": {
    "id": "24oKluH7PDCb"
   },
   "source": [
    "## Data loading"
   ]
  },
  {
   "cell_type": "markdown",
   "metadata": {
    "id": "PtmCLqN-GFhe"
   },
   "source": [
    "### Scheme definition"
   ]
  },
  {
   "cell_type": "code",
   "execution_count": 4,
   "metadata": {
    "id": "GCJRl0KDGIwa"
   },
   "outputs": [],
   "source": [
    "from pyspark.sql.types import *\n",
    "\n",
    "# Specifying the schema for your data\n",
    "new_schema = StructType([\n",
    "    StructField(\"ID\", StringType(), False),\n",
    "    StructField(\"Customer_ID\", StringType(), False),\n",
    "    StructField(\"Month\", StringType(), False),\n",
    "    StructField(\"Name\", StringType(), False),\n",
    "    StructField(\"Age\", IntegerType(), False),\n",
    "    StructField(\"SSN\", StringType(), False),\n",
    "    StructField(\"Occupation\", StringType(), False),\n",
    "    StructField(\"Annual_Income\", FloatType(), False),\n",
    "    StructField(\"Monthly_Inhand_Salary\", FloatType(), False),\n",
    "    StructField(\"Num_Bank_Accounts\", IntegerType(), False),\n",
    "    StructField(\"Num_Credit_Card\", IntegerType(), False),\n",
    "    StructField(\"Interest_Rate\", IntegerType(), False),\n",
    "    StructField(\"Num_of_Loan\", IntegerType(), False),\n",
    "    StructField(\"Type_of_Loan\", StringType(), False),\n",
    "    StructField(\"Delay_from_due_date\", IntegerType(), False),\n",
    "    StructField(\"Num_of_Delayed_Payment\", IntegerType(), False),\n",
    "    StructField(\"Changed_Credit_Limit\", FloatType(), False),\n",
    "    StructField(\"Num_Credit_Inquiries\", IntegerType(), False),\n",
    "    StructField(\"Credit_Mix\", StringType(), False),\n",
    "    StructField(\"Outstanding_Debt\", FloatType(), False),\n",
    "    StructField(\"Credit_Utilization_Ratio\", FloatType(), False),\n",
    "    StructField(\"Credit_History_Age\", StringType(), False),\n",
    "    StructField(\"Payment_of_Min_Amount\", StringType(), False),\n",
    "    StructField(\"Total_EMI_per_month\", FloatType(), False),\n",
    "    StructField(\"Amount_invested_monthly\", FloatType(), False),\n",
    "    StructField(\"Payment_Behaviour\", StringType(), False),\n",
    "    StructField(\"Monthly_Balance\", FloatType(), False),\n",
    "    StructField(\"Credit_Score\", StringType(), False)\n",
    "])"
   ]
  },
  {
   "cell_type": "code",
   "execution_count": 5,
   "metadata": {
    "id": "VjRuqCcdF0wH"
   },
   "outputs": [],
   "source": [
    "# Spark dataframe\n",
    "df = spark.read.csv('train.csv', header = True, inferSchema = True)"
   ]
  },
  {
   "cell_type": "markdown",
   "metadata": {
    "id": "D5TqZ2Qw-4MP"
   },
   "source": [
    "# Assignment 2"
   ]
  },
  {
   "cell_type": "markdown",
   "metadata": {
    "id": "V2-brjFABcVB"
   },
   "source": [
    "##Discover And Visualise The Data"
   ]
  },
  {
   "cell_type": "markdown",
   "metadata": {
    "id": "ygX3s18qEY0Y"
   },
   "source": [
    "### Examining the dataset, to find out its structure, features and size. Explore the data.\n"
   ]
  },
  {
   "cell_type": "code",
   "execution_count": 6,
   "metadata": {
    "id": "eMTN0Jgg93eu"
   },
   "outputs": [
    {
     "name": "stdout",
     "output_type": "stream",
     "text": [
      "DataFrame shape\n",
      "--------------------\n",
      "No. of rows: 100000\n",
      "No. of columns: 28\n"
     ]
    }
   ],
   "source": [
    "# Print the shape of the Spark dataframe\n",
    "print(\"DataFrame shape\")\n",
    "print(\"-\"*20)\n",
    "print(f\"No. of rows: {df.count()}\\nNo. of columns: {len(df.columns)}\")"
   ]
  },
  {
   "cell_type": "code",
   "execution_count": 7,
   "metadata": {
    "id": "4dur_YJg-D-c"
   },
   "outputs": [
    {
     "name": "stdout",
     "output_type": "stream",
     "text": [
      "+------+-----------+--------+---------------+----+-----------+----------+-------------+---------------------+-----------------+---------------+-------------+-----------+-------------------------------------------------------------------+-------------------+----------------------+--------------------+--------------------+----------+----------------+------------------------+----------------------+---------------------+-------------------+-----------------------+--------------------------------+------------------+------------+\n",
      "|ID    |Customer_ID|Month   |Name           |Age |SSN        |Occupation|Annual_Income|Monthly_Inhand_Salary|Num_Bank_Accounts|Num_Credit_Card|Interest_Rate|Num_of_Loan|Type_of_Loan                                                       |Delay_from_due_date|Num_of_Delayed_Payment|Changed_Credit_Limit|Num_Credit_Inquiries|Credit_Mix|Outstanding_Debt|Credit_Utilization_Ratio|Credit_History_Age    |Payment_of_Min_Amount|Total_EMI_per_month|Amount_invested_monthly|Payment_Behaviour               |Monthly_Balance   |Credit_Score|\n",
      "+------+-----------+--------+---------------+----+-----------+----------+-------------+---------------------+-----------------+---------------+-------------+-----------+-------------------------------------------------------------------+-------------------+----------------------+--------------------+--------------------+----------+----------------+------------------------+----------------------+---------------------+-------------------+-----------------------+--------------------------------+------------------+------------+\n",
      "|0x1602|CUS_0xd40  |January |Aaron Maashoh  |23  |821-00-0265|Scientist |19114.12     |1824.8433333333328   |3                |4              |3            |4          |Auto Loan, Credit-Builder Loan, Personal Loan, and Home Equity Loan|3                  |7                     |11.27               |4.0                 |_         |809.98          |26.822619623699016      |22 Years and 1 Months |No                   |49.57494921489417  |80.41529543900253      |High_spent_Small_value_payments |312.49408867943663|Good        |\n",
      "|0x1603|CUS_0xd40  |February|Aaron Maashoh  |23  |821-00-0265|Scientist |19114.12     |NULL                 |3                |4              |3            |4          |Auto Loan, Credit-Builder Loan, Personal Loan, and Home Equity Loan|-1                 |NULL                  |11.27               |4.0                 |Good      |809.98          |31.94496005538421       |NA                    |No                   |49.57494921489417  |118.28022162236736     |Low_spent_Large_value_payments  |284.62916249607184|Good        |\n",
      "|0x1604|CUS_0xd40  |March   |Aaron Maashoh  |-500|821-00-0265|Scientist |19114.12     |NULL                 |3                |4              |3            |4          |Auto Loan, Credit-Builder Loan, Personal Loan, and Home Equity Loan|3                  |7                     |_                   |4.0                 |Good      |809.98          |28.60935202206993       |22 Years and 3 Months |No                   |49.57494921489417  |81.699521264648        |Low_spent_Medium_value_payments |331.2098628537912 |Good        |\n",
      "|0x1605|CUS_0xd40  |April   |Aaron Maashoh  |23  |821-00-0265|Scientist |19114.12     |NULL                 |3                |4              |3            |4          |Auto Loan, Credit-Builder Loan, Personal Loan, and Home Equity Loan|5                  |4                     |6.27                |4.0                 |Good      |809.98          |31.377861869582354      |22 Years and 4 Months |No                   |49.57494921489417  |199.4580743910713      |Low_spent_Small_value_payments  |223.45130972736786|Good        |\n",
      "|0x1606|CUS_0xd40  |May     |Aaron Maashoh  |23  |821-00-0265|Scientist |19114.12     |1824.8433333333328   |3                |4              |3            |4          |Auto Loan, Credit-Builder Loan, Personal Loan, and Home Equity Loan|6                  |NULL                  |11.27               |4.0                 |Good      |809.98          |24.797346908844986      |22 Years and 5 Months |No                   |49.57494921489417  |41.420153086217326     |High_spent_Medium_value_payments|341.48923103222177|Good        |\n",
      "|0x1607|CUS_0xd40  |June    |Aaron Maashoh  |23  |821-00-0265|Scientist |19114.12     |NULL                 |3                |4              |3            |4          |Auto Loan, Credit-Builder Loan, Personal Loan, and Home Equity Loan|8                  |4                     |9.27                |4.0                 |Good      |809.98          |27.26225871052017       |22 Years and 6 Months |No                   |49.57494921489417  |62.430172331195294     |!@9#%8                          |340.4792117872438 |Good        |\n",
      "|0x1608|CUS_0xd40  |July    |Aaron Maashoh  |23  |821-00-0265|Scientist |19114.12     |1824.8433333333328   |3                |4              |3            |4          |Auto Loan, Credit-Builder Loan, Personal Loan, and Home Equity Loan|3                  |8_                    |11.27               |4.0                 |Good      |809.98          |22.53759303178384       |22 Years and 7 Months |No                   |49.57494921489417  |178.3440674122349      |Low_spent_Small_value_payments  |244.5653167062043 |Good        |\n",
      "|0x1609|CUS_0xd40  |August  |NULL           |23  |#F%$D@*&8  |Scientist |19114.12     |1824.8433333333328   |3                |4              |3            |4          |Auto Loan, Credit-Builder Loan, Personal Loan, and Home Equity Loan|3                  |6                     |11.27               |4.0                 |Good      |809.98          |23.93379480196552       |NA                    |No                   |49.57494921489417  |24.785216509052056     |High_spent_Medium_value_payments|358.12416760938714|Standard    |\n",
      "|0x160e|CUS_0x21b1 |January |Rick Rothackerj|28_ |004-07-5839|_______   |34847.84     |3037.986666666666    |2                |4              |6            |1          |Credit-Builder Loan                                                |3                  |4                     |5.42                |2.0                 |Good      |605.03          |24.46403063758457       |26 Years and 7 Months |No                   |18.816214573128885 |104.291825168246       |Low_spent_Small_value_payments  |470.69062692529184|Standard    |\n",
      "|0x160f|CUS_0x21b1 |February|Rick Rothackerj|28  |004-07-5839|Teacher   |34847.84     |3037.986666666666    |2                |4              |6            |1          |Credit-Builder Loan                                                |7                  |1                     |7.42                |2.0                 |Good      |605.03          |38.550848433956325      |26 Years and 8 Months |No                   |18.816214573128885 |40.39123782853101      |High_spent_Large_value_payments |484.5912142650067 |Good        |\n",
      "|0x1610|CUS_0x21b1 |March   |Rick Rothackerj|28  |004-07-5839|Teacher   |34847.84_    |3037.986666666666    |2                |1385           |6            |1          |Credit-Builder Loan                                                |3                  |-1                    |5.42                |2.0                 |_         |605.03          |33.22495078663659       |26 Years and 9 Months |No                   |18.816214573128885 |58.51597569589465      |High_spent_Large_value_payments |466.46647639764313|Standard    |\n",
      "|0x1611|CUS_0x21b1 |April   |Rick Rothackerj|28  |004-07-5839|Teacher   |34847.84     |NULL                 |2                |4              |6            |1          |Credit-Builder Loan                                                |3                  |3_                    |5.42                |2.0                 |Good      |605.03          |39.18265565546884       |26 Years and 10 Months|No                   |18.816214573128885 |99.30622796053305      |Low_spent_Medium_value_payments |465.6762241330048 |Good        |\n",
      "|0x1612|CUS_0x21b1 |May     |Rick Rothackerj|28  |004-07-5839|Teacher   |34847.84     |3037.986666666666    |2                |4              |6            |1          |Credit-Builder Loan                                                |3                  |1                     |6.42                |2.0                 |Good      |605.03          |34.97789474709241       |26 Years and 11 Months|No                   |18.816214573128885 |130.11542024292334     |Low_spent_Small_value_payments  |444.8670318506144 |Good        |\n",
      "|0x1613|CUS_0x21b1 |June    |Rick Rothackerj|28  |004-07-5839|Teacher   |34847.84     |3037.986666666666    |2                |4              |6            |1          |Credit-Builder Loan                                                |3                  |0                     |5.42                |2.0                 |Good      |605.03          |33.38101020065065       |27 Years and 0 Months |No                   |18.816214573128885 |43.477190144355745     |High_spent_Large_value_payments |481.505261949182  |Good        |\n",
      "|0x1614|CUS_0x21b1 |July    |Rick Rothackerj|28  |004-07-5839|Teacher   |34847.84     |NULL                 |2                |4              |6            |1          |Credit-Builder Loan                                                |3                  |4                     |5.42                |2.0                 |Good      |605.03          |31.131701611553307      |27 Years and 1 Months |NM                   |18.816214573128885 |70.10177420755677      |High_spent_Medium_value_payments|464.8806778859809 |Good        |\n",
      "|0x1615|CUS_0x21b1 |August  |Rick Rothackerj|28  |004-07-5839|Teacher   |34847.84     |3037.986666666666    |2                |4              |6            |1          |Credit-Builder Loan                                                |3                  |4                     |5.42                |2.0                 |Good      |605.03          |32.933856293622235      |27 Years and 2 Months |No                   |18.816214573128885 |218.90434353388733     |Low_spent_Small_value_payments  |356.07810855965045|Good        |\n",
      "|0x161a|CUS_0x2dbc |January |Langep         |34  |486-85-3974|_______   |143162.64    |12187.22             |1                |5              |8            |3          |Auto Loan, Auto Loan, and Not Specified                            |5                  |8                     |7.1                 |3.0                 |Good      |1303.01         |28.616734823006844      |17 Years and 9 Months |No                   |246.9923194537421  |168.413702679309       |!@9#%8                          |1043.3159778669492|Good        |\n",
      "|0x161b|CUS_0x2dbc |February|NULL           |34  |486-85-3974|Engineer  |143162.64    |12187.22             |1                |5              |8            |3          |Auto Loan, Auto Loan, and Not Specified                            |13                 |6                     |7.1                 |3.0                 |Good      |1303.01         |41.70257342393906       |17 Years and 10 Months|No                   |246.9923194537421  |232.86038375993544     |High_spent_Small_value_payments |998.8692967863226 |Good        |\n",
      "|0x161c|CUS_0x2dbc |March   |Langep         |34  |486-85-3974|_______   |143162.64    |NULL                 |1                |5              |8            |3          |Auto Loan, Auto Loan, and Not Specified                            |8                  |7                     |11.1                |NULL                |Good      |1303.01         |26.519815391546498      |17 Years and 11 Months|No                   |246.9923194537421  |__10000__              |High_spent_Small_value_payments |715.741367403555  |Good        |\n",
      "|0x161d|CUS_0x2dbc |April   |Langep         |34  |486-85-3974|Engineer  |143162.64    |12187.22             |1                |5              |8            |3          |Auto Loan, Auto Loan, and Not Specified                            |8                  |5                     |9.1                 |3.0                 |_         |1303.01         |39.50164810812735       |NA                    |No                   |246.9923194537421  |825.2162699393922      |Low_spent_Medium_value_payments |426.5134106068658 |Good        |\n",
      "+------+-----------+--------+---------------+----+-----------+----------+-------------+---------------------+-----------------+---------------+-------------+-----------+-------------------------------------------------------------------+-------------------+----------------------+--------------------+--------------------+----------+----------------+------------------------+----------------------+---------------------+-------------------+-----------------------+--------------------------------+------------------+------------+\n",
      "only showing top 20 rows\n",
      "\n"
     ]
    }
   ],
   "source": [
    "# Show the content of the Spark dataframe\n",
    "df.show(truncate = False)"
   ]
  },
  {
   "cell_type": "code",
   "execution_count": 8,
   "metadata": {
    "id": "u_40ODoeKu9d"
   },
   "outputs": [
    {
     "name": "stdout",
     "output_type": "stream",
     "text": [
      "root\n",
      " |-- ID: string (nullable = true)\n",
      " |-- Customer_ID: string (nullable = true)\n",
      " |-- Month: string (nullable = true)\n",
      " |-- Name: string (nullable = true)\n",
      " |-- Age: string (nullable = true)\n",
      " |-- SSN: string (nullable = true)\n",
      " |-- Occupation: string (nullable = true)\n",
      " |-- Annual_Income: string (nullable = true)\n",
      " |-- Monthly_Inhand_Salary: double (nullable = true)\n",
      " |-- Num_Bank_Accounts: integer (nullable = true)\n",
      " |-- Num_Credit_Card: integer (nullable = true)\n",
      " |-- Interest_Rate: integer (nullable = true)\n",
      " |-- Num_of_Loan: string (nullable = true)\n",
      " |-- Type_of_Loan: string (nullable = true)\n",
      " |-- Delay_from_due_date: integer (nullable = true)\n",
      " |-- Num_of_Delayed_Payment: string (nullable = true)\n",
      " |-- Changed_Credit_Limit: string (nullable = true)\n",
      " |-- Num_Credit_Inquiries: double (nullable = true)\n",
      " |-- Credit_Mix: string (nullable = true)\n",
      " |-- Outstanding_Debt: string (nullable = true)\n",
      " |-- Credit_Utilization_Ratio: double (nullable = true)\n",
      " |-- Credit_History_Age: string (nullable = true)\n",
      " |-- Payment_of_Min_Amount: string (nullable = true)\n",
      " |-- Total_EMI_per_month: double (nullable = true)\n",
      " |-- Amount_invested_monthly: string (nullable = true)\n",
      " |-- Payment_Behaviour: string (nullable = true)\n",
      " |-- Monthly_Balance: string (nullable = true)\n",
      " |-- Credit_Score: string (nullable = true)\n",
      "\n"
     ]
    }
   ],
   "source": [
    "# Print the schema of the Spark dataframe\n",
    "df.printSchema()"
   ]
  },
  {
   "cell_type": "code",
   "execution_count": 9,
   "metadata": {
    "id": "h2wW7ylWK2FU"
   },
   "outputs": [
    {
     "data": {
      "text/plain": [
       "['ID',\n",
       " 'Customer_ID',\n",
       " 'Month',\n",
       " 'Name',\n",
       " 'Age',\n",
       " 'SSN',\n",
       " 'Occupation',\n",
       " 'Annual_Income',\n",
       " 'Monthly_Inhand_Salary',\n",
       " 'Num_Bank_Accounts',\n",
       " 'Num_Credit_Card',\n",
       " 'Interest_Rate',\n",
       " 'Num_of_Loan',\n",
       " 'Type_of_Loan',\n",
       " 'Delay_from_due_date',\n",
       " 'Num_of_Delayed_Payment',\n",
       " 'Changed_Credit_Limit',\n",
       " 'Num_Credit_Inquiries',\n",
       " 'Credit_Mix',\n",
       " 'Outstanding_Debt',\n",
       " 'Credit_Utilization_Ratio',\n",
       " 'Credit_History_Age',\n",
       " 'Payment_of_Min_Amount',\n",
       " 'Total_EMI_per_month',\n",
       " 'Amount_invested_monthly',\n",
       " 'Payment_Behaviour',\n",
       " 'Monthly_Balance',\n",
       " 'Credit_Score']"
      ]
     },
     "execution_count": 9,
     "metadata": {},
     "output_type": "execute_result"
    }
   ],
   "source": [
    "# Print the name of column headers\n",
    "df.columns"
   ]
  },
  {
   "cell_type": "markdown",
   "metadata": {
    "id": "7RtoXDlOGt0T"
   },
   "source": [
    "### Summary of dataframe"
   ]
  },
  {
   "cell_type": "code",
   "execution_count": 10,
   "metadata": {
    "id": "0ar_McYdGxoe"
   },
   "outputs": [
    {
     "name": "stdout",
     "output_type": "stream",
     "text": [
      "+-------+-------+-----------+------+------+------------------+-----------+----------+------------------+---------------------+------------------+-----------------+------------------+-----------------+--------------------+-------------------+----------------------+--------------------+--------------------+----------+------------------+------------------------+--------------------+---------------------+-------------------+-----------------------+--------------------+--------------------+------------+\n",
      "|summary|     ID|Customer_ID| Month|  Name|               Age|        SSN|Occupation|     Annual_Income|Monthly_Inhand_Salary| Num_Bank_Accounts|  Num_Credit_Card|     Interest_Rate|      Num_of_Loan|        Type_of_Loan|Delay_from_due_date|Num_of_Delayed_Payment|Changed_Credit_Limit|Num_Credit_Inquiries|Credit_Mix|  Outstanding_Debt|Credit_Utilization_Ratio|  Credit_History_Age|Payment_of_Min_Amount|Total_EMI_per_month|Amount_invested_monthly|   Payment_Behaviour|     Monthly_Balance|Credit_Score|\n",
      "+-------+-------+-----------+------+------+------------------+-----------+----------+------------------+---------------------+------------------+-----------------+------------------+-----------------+--------------------+-------------------+----------------------+--------------------+--------------------+----------+------------------+------------------------+--------------------+---------------------+-------------------+-----------------------+--------------------+--------------------+------------+\n",
      "|  count| 100000|     100000|100000| 90015|            100000|     100000|    100000|            100000|                84998|            100000|           100000|            100000|           100000|               88592|             100000|                 92998|              100000|               98035|    100000|            100000|                  100000|              100000|               100000|             100000|                  95521|              100000|               98800|      100000|\n",
      "|   mean|   NULL|       NULL|  NULL|  NULL|110.93450521244253|       NULL|      NULL| 178578.9641994199|    4194.170849600519|          17.09128|         22.47443|          72.46604|2.780339232263824|                NULL|           21.06878|    31.033051166707292|  10.389025115157999|   27.75425103279441|      NULL|1426.5037001343549|       32.28517251894357|                NULL|                 NULL| 1403.1182166160008|     195.53945602655256|                NULL|  402.55125811051573|        NULL|\n",
      "| stddev|   NULL|       NULL|  NULL|  NULL| 689.4078643530448|       NULL|      NULL|1442878.3889694503|   3183.6861668732627|117.40483442734825|129.0574101100984|466.42262122171365|62.50094029960787|                NULL| 14.860104223678096|      226.955757770445|   6.789496202377754|   193.1773389800329|      NULL|1155.0457527707647|      5.1168750701509085|                NULL|                 NULL|  8306.041270321717|     199.56452699813354|                NULL|  213.92549893102657|        NULL|\n",
      "|    min|0x10002| CUS_0x1000| April| Mattr|              -500|  #F%$D@*&8|Accountant|        10001727.0|    303.6454166666666|                -1|                0|                 1|             -100|           Auto Loan|                 -5|                    -1|-0.00999999999999...|                 0.0|       Bad|              0.23|                    20.0|0 Years and 1 Months|                   NM|                0.0|                    0.0|              !@9#%8|0.007759664775335295|        Good|\n",
      "|    max| 0xfffd|  CUS_0xffd|   May|    yv|               995|999-99-3421|   _______|          99995.22|   15204.633333333333|              1798|             1499|              5797|               9_|Student Loan, and...|                 67|                    9_|                   _|              2597.0|         _|            999.48|       50.00000000000001|                  NA|                  Yes|            82331.0|              __10000__|Low_spent_Small_v...|__-33333333333333...|    Standard|\n",
      "+-------+-------+-----------+------+------+------------------+-----------+----------+------------------+---------------------+------------------+-----------------+------------------+-----------------+--------------------+-------------------+----------------------+--------------------+--------------------+----------+------------------+------------------------+--------------------+---------------------+-------------------+-----------------------+--------------------+--------------------+------------+\n",
      "\n"
     ]
    }
   ],
   "source": [
    "summary = df.describe()\n",
    "summary.show()"
   ]
  },
  {
   "cell_type": "markdown",
   "metadata": {
    "id": "mjOuHCVqT8Ok"
   },
   "source": [
    "### Visualise the missing data\n"
   ]
  },
  {
   "cell_type": "code",
   "execution_count": 11,
   "metadata": {
    "id": "2fJGsw4z_Tyc"
   },
   "outputs": [
    {
     "name": "stdout",
     "output_type": "stream",
     "text": [
      "+---+-----------+-----+----+---+---+----------+-------------+---------------------+-----------------+---------------+-------------+-----------+------------+-------------------+----------------------+--------------------+--------------------+----------+----------------+------------------------+------------------+---------------------+-------------------+-----------------------+-----------------+---------------+------------+\n",
      "| ID|Customer_ID|Month|Name|Age|SSN|Occupation|Annual_Income|Monthly_Inhand_Salary|Num_Bank_Accounts|Num_Credit_Card|Interest_Rate|Num_of_Loan|Type_of_Loan|Delay_from_due_date|Num_of_Delayed_Payment|Changed_Credit_Limit|Num_Credit_Inquiries|Credit_Mix|Outstanding_Debt|Credit_Utilization_Ratio|Credit_History_Age|Payment_of_Min_Amount|Total_EMI_per_month|Amount_invested_monthly|Payment_Behaviour|Monthly_Balance|Credit_Score|\n",
      "+---+-----------+-----+----+---+---+----------+-------------+---------------------+-----------------+---------------+-------------+-----------+------------+-------------------+----------------------+--------------------+--------------------+----------+----------------+------------------------+------------------+---------------------+-------------------+-----------------------+-----------------+---------------+------------+\n",
      "|  0|          0|    0|9985|  0|  0|         0|            0|                15002|                0|              0|            0|          0|       11408|                  0|                  7002|                   0|                1965|         0|               0|                       0|                 0|                    0|                  0|                   4479|                0|           1200|           0|\n",
      "+---+-----------+-----+----+---+---+----------+-------------+---------------------+-----------------+---------------+-------------+-----------+------------+-------------------+----------------------+--------------------+--------------------+----------+----------------+------------------------+------------------+---------------------+-------------------+-----------------------+-----------------+---------------+------------+\n",
      "\n"
     ]
    }
   ],
   "source": [
    "# Check if there is any NULL values.\n",
    "from pyspark.sql.functions import col, count, isnan, when\n",
    "df.select([count(when(col(c).isNull(), c)).alias(c) for c in df.columns]).show()"
   ]
  },
  {
   "cell_type": "code",
   "execution_count": 12,
   "metadata": {
    "id": "eGYckfkjTIVj"
   },
   "outputs": [
    {
     "name": "stderr",
     "output_type": "stream",
     "text": [
      "D:\\Anaconda\\Lib\\site-packages\\seaborn\\axisgrid.py:118: UserWarning: The figure layout has changed to tight\n",
      "  self._figure.tight_layout(*args, **kwargs)\n"
     ]
    },
    {
     "data": {
      "image/png": "[encoded data removed]",
      "text/plain": [
       "<Figure size 655.486x500 with 1 Axes>"
      ]
     },
     "metadata": {},
     "output_type": "display_data"
    }
   ],
   "source": [
    "# Function to visualize missing value\n",
    "def na_ratio_plot(df=df):\n",
    "    sns.displot(df.toPandas().isna().melt(value_name='Missing_data',var_name='Features'),y='Features',hue='Missing_data',multiple='fill',aspect=9/8)\n",
    "\n",
    "na_ratio_plot()"
   ]
  },
  {
   "cell_type": "markdown",
   "metadata": {
    "id": "Xap9xTihSABB"
   },
   "source": [
    "### Target: Credit score distribution plot"
   ]
  },
  {
   "cell_type": "code",
   "execution_count": 13,
   "metadata": {
    "id": "lVWt7iTNSGBO"
   },
   "outputs": [
    {
     "name": "stderr",
     "output_type": "stream",
     "text": [
      "D:\\Anaconda\\Lib\\site-packages\\seaborn\\axisgrid.py:118: UserWarning: The figure layout has changed to tight\n",
      "  self._figure.tight_layout(*args, **kwargs)\n"
     ]
    },
    {
     "data": {
      "text/plain": [
       "<seaborn.axisgrid.FacetGrid at 0x2006f17f690>"
      ]
     },
     "execution_count": 13,
     "metadata": {},
     "output_type": "execute_result"
    },
    {
     "data": {
      "image/png": "[encoded data removed]",
      "text/plain": [
       "<Figure size 500x500 with 1 Axes>"
      ]
     },
     "metadata": {},
     "output_type": "display_data"
    }
   ],
   "source": [
    "sns.displot(df.toPandas()[\"Credit_Score\"])"
   ]
  },
  {
   "cell_type": "markdown",
   "metadata": {
    "id": "a3yOdDKaUnBh"
   },
   "source": [
    "### Distribution of attributes"
   ]
  },
  {
   "cell_type": "code",
   "execution_count": 14,
   "metadata": {
    "id": "kCQaGl8zWvUL"
   },
   "outputs": [
    {
     "data": {
      "image/png": "[encoded data removed]",
      "text/plain": [
       "<Figure size 2000x2000 with 9 Axes>"
      ]
     },
     "metadata": {},
     "output_type": "display_data"
    }
   ],
   "source": [
    "#See the distribution of each variable\n",
    "df.toPandas().hist(figsize = (20, 20))\n",
    "plt.show()"
   ]
  },
  {
   "cell_type": "markdown",
   "metadata": {
    "id": "6KqRy45vTPJv"
   },
   "source": [
    "### Unique count"
   ]
  },
  {
   "cell_type": "code",
   "execution_count": 15,
   "metadata": {
    "id": "avt25wx0VBGb"
   },
   "outputs": [
    {
     "name": "stdout",
     "output_type": "stream",
     "text": [
      "+------+-----------+-----+-----+----+-----+----------+-------------+---------------------+-----------------+---------------+-------------+-----------+------------+-------------------+----------------------+--------------------+--------------------+----------+----------------+------------------------+------------------+---------------------+-------------------+-----------------------+-----------------+---------------+------------+\n",
      "|    ID|Customer_ID|Month| Name| Age|  SSN|Occupation|Annual_Income|Monthly_Inhand_Salary|Num_Bank_Accounts|Num_Credit_Card|Interest_Rate|Num_of_Loan|Type_of_Loan|Delay_from_due_date|Num_of_Delayed_Payment|Changed_Credit_Limit|Num_Credit_Inquiries|Credit_Mix|Outstanding_Debt|Credit_Utilization_Ratio|Credit_History_Age|Payment_of_Min_Amount|Total_EMI_per_month|Amount_invested_monthly|Payment_Behaviour|Monthly_Balance|Credit_Score|\n",
      "+------+-----------+-----+-----+----+-----+----------+-------------+---------------------+-----------------+---------------+-------------+-----------+------------+-------------------+----------------------+--------------------+--------------------+----------+----------------+------------------------+------------------+---------------------+-------------------+-----------------------+-----------------+---------------+------------+\n",
      "|100000|      12500|    8|10139|1788|12501|        16|        18940|                13235|              943|           1179|         1750|        434|        6260|                 73|                   749|                4384|                1223|         4|           13178|                  100000|               405|                    3|              14950|                  91049|                7|          98792|           3|\n",
      "+------+-----------+-----+-----+----+-----+----------+-------------+---------------------+-----------------+---------------+-------------+-----------+------------+-------------------+----------------------+--------------------+--------------------+----------+----------------+------------------------+------------------+---------------------+-------------------+-----------------------+-----------------+---------------+------------+\n",
      "\n"
     ]
    }
   ],
   "source": [
    "from pyspark.sql.functions import col, countDistinct\n",
    "\n",
    "df.select([countDistinct(col(c)).alias(c) for c in df.columns]).show()\n"
   ]
  },
  {
   "cell_type": "markdown",
   "metadata": {
    "id": "ThBnt8kVBce5"
   },
   "source": [
    "##Preparing The Data For Machine Learning Algorithms"
   ]
  },
  {
   "cell_type": "markdown",
   "metadata": {
    "id": "QebTr0hLXJj1"
   },
   "source": [
    "### Dropping columns ID, Customer_ID, Name, SSN\n",
    "Reason being, too many unique values and not useful for training and testing. Will use Customer ID for reference"
   ]
  },
  {
   "cell_type": "code",
   "execution_count": 16,
   "metadata": {
    "id": "VWwv0OPIXFV3"
   },
   "outputs": [],
   "source": [
    "columns_to_drop = [\"ID\",\"Name\",\"SSN\"]\n",
    "df = df.drop(*columns_to_drop)"
   ]
  },
  {
   "cell_type": "code",
   "execution_count": 17,
   "metadata": {
    "id": "hl2x2IwRVqvT"
   },
   "outputs": [
    {
     "data": {
      "text/plain": [
       "['Customer_ID',\n",
       " 'Month',\n",
       " 'Age',\n",
       " 'Occupation',\n",
       " 'Annual_Income',\n",
       " 'Monthly_Inhand_Salary',\n",
       " 'Num_Bank_Accounts',\n",
       " 'Num_Credit_Card',\n",
       " 'Interest_Rate',\n",
       " 'Num_of_Loan',\n",
       " 'Type_of_Loan',\n",
       " 'Delay_from_due_date',\n",
       " 'Num_of_Delayed_Payment',\n",
       " 'Changed_Credit_Limit',\n",
       " 'Num_Credit_Inquiries',\n",
       " 'Credit_Mix',\n",
       " 'Outstanding_Debt',\n",
       " 'Credit_Utilization_Ratio',\n",
       " 'Credit_History_Age',\n",
       " 'Payment_of_Min_Amount',\n",
       " 'Total_EMI_per_month',\n",
       " 'Amount_invested_monthly',\n",
       " 'Payment_Behaviour',\n",
       " 'Monthly_Balance',\n",
       " 'Credit_Score']"
      ]
     },
     "execution_count": 17,
     "metadata": {},
     "output_type": "execute_result"
    }
   ],
   "source": [
    "df.columns"
   ]
  },
  {
   "cell_type": "markdown",
   "metadata": {
    "id": "KNG1SRP-KSsP"
   },
   "source": [
    "### Handle Invalid Data"
   ]
  },
  {
   "cell_type": "markdown",
   "metadata": {
    "id": "PZqoRJo9LGCW"
   },
   "source": [
    "#### Handle '_' invalid values"
   ]
  },
  {
   "cell_type": "markdown",
   "metadata": {
    "id": "OcWCiHWLKXs5"
   },
   "source": [
    "Looking at the dataset we notice that there are alot of weird values with '_' which affects the data that can be used."
   ]
  },
  {
   "cell_type": "code",
   "execution_count": 18,
   "metadata": {
    "id": "MUkV8MRBKWC_"
   },
   "outputs": [
    {
     "name": "stdout",
     "output_type": "stream",
     "text": [
      "+-----------+--------+----+------------+-------------+---------------------+-----------------+---------------+-------------+-----------+--------------------+-------------------+----------------------+--------------------+--------------------+----------+----------------+------------------------+--------------------+---------------------+-------------------+-----------------------+--------------------+------------------+------------+\n",
      "|Customer_ID|   Month| Age|  Occupation|Annual_Income|Monthly_Inhand_Salary|Num_Bank_Accounts|Num_Credit_Card|Interest_Rate|Num_of_Loan|        Type_of_Loan|Delay_from_due_date|Num_of_Delayed_Payment|Changed_Credit_Limit|Num_Credit_Inquiries|Credit_Mix|Outstanding_Debt|Credit_Utilization_Ratio|  Credit_History_Age|Payment_of_Min_Amount|Total_EMI_per_month|Amount_invested_monthly|   Payment_Behaviour|   Monthly_Balance|Credit_Score|\n",
      "+-----------+--------+----+------------+-------------+---------------------+-----------------+---------------+-------------+-----------+--------------------+-------------------+----------------------+--------------------+--------------------+----------+----------------+------------------------+--------------------+---------------------+-------------------+-----------------------+--------------------+------------------+------------+\n",
      "|  CUS_0xd40| January|  23|   Scientist|     19114.12|   1824.8433333333328|                3|              4|            3|          4|Auto Loan, Credit...|                  3|                     7|               11.27|                 4.0|      NULL|          809.98|      26.822619623699016|22 Years and 1 Mo...|                   No|  49.57494921489417|      80.41529543900253|High_spent_Small_...|312.49408867943663|        Good|\n",
      "|  CUS_0xd40|February|  23|   Scientist|     19114.12|                 NULL|                3|              4|            3|          4|Auto Loan, Credit...|                 -1|                  NULL|               11.27|                 4.0|      Good|          809.98|       31.94496005538421|                  NA|                   No|  49.57494921489417|     118.28022162236736|Low_spent_Large_v...|284.62916249607184|        Good|\n",
      "|  CUS_0xd40|   March|-500|   Scientist|     19114.12|                 NULL|                3|              4|            3|          4|Auto Loan, Credit...|                  3|                     7|                NULL|                 4.0|      Good|          809.98|       28.60935202206993|22 Years and 3 Mo...|                   No|  49.57494921489417|        81.699521264648|Low_spent_Medium_...| 331.2098628537912|        Good|\n",
      "|  CUS_0xd40|   April|  23|   Scientist|     19114.12|                 NULL|                3|              4|            3|          4|Auto Loan, Credit...|                  5|                     4|                6.27|                 4.0|      Good|          809.98|      31.377861869582354|22 Years and 4 Mo...|                   No|  49.57494921489417|      199.4580743910713|Low_spent_Small_v...|223.45130972736786|        Good|\n",
      "|  CUS_0xd40|     May|  23|   Scientist|     19114.12|   1824.8433333333328|                3|              4|            3|          4|Auto Loan, Credit...|                  6|                  NULL|               11.27|                 4.0|      Good|          809.98|      24.797346908844986|22 Years and 5 Mo...|                   No|  49.57494921489417|     41.420153086217326|High_spent_Medium...|341.48923103222177|        Good|\n",
      "|  CUS_0xd40|    June|  23|   Scientist|     19114.12|                 NULL|                3|              4|            3|          4|Auto Loan, Credit...|                  8|                     4|                9.27|                 4.0|      Good|          809.98|       27.26225871052017|22 Years and 6 Mo...|                   No|  49.57494921489417|     62.430172331195294|              !@9#%8| 340.4792117872438|        Good|\n",
      "|  CUS_0xd40|    July|  23|   Scientist|     19114.12|   1824.8433333333328|                3|              4|            3|          4|Auto Loan, Credit...|                  3|                  NULL|               11.27|                 4.0|      Good|          809.98|       22.53759303178384|22 Years and 7 Mo...|                   No|  49.57494921489417|      178.3440674122349|Low_spent_Small_v...| 244.5653167062043|        Good|\n",
      "|  CUS_0xd40|  August|  23|   Scientist|     19114.12|   1824.8433333333328|                3|              4|            3|          4|Auto Loan, Credit...|                  3|                     6|               11.27|                 4.0|      Good|          809.98|       23.93379480196552|                  NA|                   No|  49.57494921489417|     24.785216509052056|High_spent_Medium...|358.12416760938714|    Standard|\n",
      "| CUS_0x21b1| January|NULL|        NULL|     34847.84|    3037.986666666666|                2|              4|            6|          1| Credit-Builder Loan|                  3|                     4|                5.42|                 2.0|      Good|          605.03|       24.46403063758457|26 Years and 7 Mo...|                   No| 18.816214573128885|       104.291825168246|Low_spent_Small_v...|470.69062692529184|    Standard|\n",
      "| CUS_0x21b1|February|  28|     Teacher|     34847.84|    3037.986666666666|                2|              4|            6|          1| Credit-Builder Loan|                  7|                     1|                7.42|                 2.0|      Good|          605.03|      38.550848433956325|26 Years and 8 Mo...|                   No| 18.816214573128885|      40.39123782853101|High_spent_Large_...| 484.5912142650067|        Good|\n",
      "| CUS_0x21b1|   March|  28|     Teacher|         NULL|    3037.986666666666|                2|           1385|            6|          1| Credit-Builder Loan|                  3|                    -1|                5.42|                 2.0|      NULL|          605.03|       33.22495078663659|26 Years and 9 Mo...|                   No| 18.816214573128885|      58.51597569589465|High_spent_Large_...|466.46647639764313|    Standard|\n",
      "| CUS_0x21b1|   April|  28|     Teacher|     34847.84|                 NULL|                2|              4|            6|          1| Credit-Builder Loan|                  3|                  NULL|                5.42|                 2.0|      Good|          605.03|       39.18265565546884|26 Years and 10 M...|                   No| 18.816214573128885|      99.30622796053305|Low_spent_Medium_...| 465.6762241330048|        Good|\n",
      "| CUS_0x21b1|     May|  28|     Teacher|     34847.84|    3037.986666666666|                2|              4|            6|          1| Credit-Builder Loan|                  3|                     1|                6.42|                 2.0|      Good|          605.03|       34.97789474709241|26 Years and 11 M...|                   No| 18.816214573128885|     130.11542024292334|Low_spent_Small_v...| 444.8670318506144|        Good|\n",
      "| CUS_0x21b1|    June|  28|     Teacher|     34847.84|    3037.986666666666|                2|              4|            6|          1| Credit-Builder Loan|                  3|                     0|                5.42|                 2.0|      Good|          605.03|       33.38101020065065|27 Years and 0 Mo...|                   No| 18.816214573128885|     43.477190144355745|High_spent_Large_...|  481.505261949182|        Good|\n",
      "| CUS_0x21b1|    July|  28|     Teacher|     34847.84|                 NULL|                2|              4|            6|          1| Credit-Builder Loan|                  3|                     4|                5.42|                 2.0|      Good|          605.03|      31.131701611553307|27 Years and 1 Mo...|                   NM| 18.816214573128885|      70.10177420755677|High_spent_Medium...| 464.8806778859809|        Good|\n",
      "| CUS_0x21b1|  August|  28|     Teacher|     34847.84|    3037.986666666666|                2|              4|            6|          1| Credit-Builder Loan|                  3|                     4|                5.42|                 2.0|      Good|          605.03|      32.933856293622235|27 Years and 2 Mo...|                   No| 18.816214573128885|     218.90434353388733|Low_spent_Small_v...|356.07810855965045|        Good|\n",
      "| CUS_0x2dbc| January|  34|        NULL|    143162.64|             12187.22|                1|              5|            8|          3|Auto Loan, Auto L...|                  5|                     8|                 7.1|                 3.0|      Good|         1303.01|      28.616734823006844|17 Years and 9 Mo...|                   No|  246.9923194537421|       168.413702679309|              !@9#%8|1043.3159778669492|        Good|\n",
      "| CUS_0x2dbc|February|  34|    Engineer|    143162.64|             12187.22|                1|              5|            8|          3|Auto Loan, Auto L...|                 13|                     6|                 7.1|                 3.0|      Good|         1303.01|       41.70257342393906|17 Years and 10 M...|                   No|  246.9923194537421|     232.86038375993544|High_spent_Small_...| 998.8692967863226|        Good|\n",
      "| CUS_0x2dbc|   March|  34|        NULL|    143162.64|                 NULL|                1|              5|            8|          3|Auto Loan, Auto L...|                  8|                     7|                11.1|                NULL|      Good|         1303.01|      26.519815391546498|17 Years and 11 M...|                   No|  246.9923194537421|                   NULL|High_spent_Small_...|  715.741367403555|        Good|\n",
      "| CUS_0x2dbc|   April|  34|    Engineer|    143162.64|             12187.22|                1|              5|            8|          3|Auto Loan, Auto L...|                  8|                     5|                 9.1|                 3.0|      NULL|         1303.01|       39.50164810812735|                  NA|                   No|  246.9923194537421|      825.2162699393922|Low_spent_Medium_...| 426.5134106068658|        Good|\n",
      "| CUS_0x2dbc|     May|  34|        NULL|    143162.64|             12187.22|                1|              5|            8|          3|Auto Loan, Auto L...|                 10|                     5|                 7.1|                 3.0|      Good|         1303.01|       31.37614957421204|18 Years and 1 Mo...|                   No|  246.9923194537421|      430.9475278803298|Low_spent_Large_v...| 810.7821526659284|        Good|\n",
      "| CUS_0x2dbc|    June|  34|    Engineer|    143162.64|             12187.22|                1|              5|            8|        967|Auto Loan, Auto L...|                  8|                     6|                 7.1|                 3.0|      Good|         1303.01|      39.783993458021186|18 Years and 2 Mo...|                   No|  246.9923194537421|     257.80809942568976|High_spent_Medium...| 963.9215811205684|        Good|\n",
      "| CUS_0x2dbc|    July|  34|    Engineer|    143162.64|             12187.22|                1|              5|            8|          3|Auto Loan, Auto L...|                  8|                     6|                 7.1|                 3.0|      Good|         1303.01|      38.068623627698585|18 Years and 3 Mo...|                   No|  246.9923194537421|     263.17416316163934|High_spent_Small_...| 968.5555173846187|    Standard|\n",
      "| CUS_0x2dbc|  August|  34|    Engineer|    143162.64|             12187.22|                1|              5|            8|          3|Auto Loan, Auto L...|                  8|                     6|                 7.1|                 3.0|      Good|         1303.01|       38.37475294778511|18 Years and 4 Mo...|                   No|  246.9923194537421|                   NULL|High_spent_Small_...|  895.494583180492|    Standard|\n",
      "| CUS_0xb891| January|  54|Entrepreneur|     30689.89|   2612.4908333333333|                2|              5|            4|          1|       Not Specified|                  0|                     6|                1.99|                 4.0|      Good|          632.46|       26.54422872407309|17 Years and 3 Mo...|                   No| 16.415451659824875|      81.22885871073616|Low_spent_Large_v...| 433.6047729627723|    Standard|\n",
      "| CUS_0xb891|February|  54|Entrepreneur|     30689.89|   2612.4908333333333|                2|              5|            4|          1|       Not Specified|                  5|                     3|                1.99|                 4.0|      Good|          632.46|      35.279981779008544|17 Years and 4 Mo...|                   No| 16.415451659824875|     124.88181990234848|Low_spent_Small_v...|409.95181177115995|    Standard|\n",
      "| CUS_0xb891|   March|  55|Entrepreneur|     30689.89|   2612.4908333333333|                2|              5|            4|          1|       Not Specified|                  3|                     9|                1.99|                 4.0|      Good|          632.46|       32.30116343180253|17 Years and 5 Mo...|                   NM| 16.415451659824875|      83.40650880252501|High_spent_Medium...|411.42712287098345|    Standard|\n",
      "| CUS_0xb891|   April|  55|Entrepreneur|         NULL|   2612.4908333333333|                2|              5|            4|          1|       Not Specified|                  7|                     6|               -2.01|                 4.0|      Good|          632.46|      38.132348192570056|17 Years and 6 Mo...|                   No| 16.415451659824875|      272.3340373956682|Low_spent_Small_v...| 262.4995942778403|    Standard|\n",
      "| CUS_0xb891|     May|  55|Entrepreneur|     30689.89|   2612.4908333333333|                2|              5|            4|          1|       Not Specified|                  5|                     6|               -1.01|                 4.0|      Good|          632.46|       41.15431654696947|17 Years and 7 Mo...|                   No| 16.415451659824875|                   NULL|Low_spent_Large_v...|359.37491550776383|    Standard|\n",
      "| CUS_0xb891|    June|  55|        NULL|     30689.89|   2612.4908333333333|                2|              5|            4|          1|       Not Specified|                  5|                     6|               -3.01|                 4.0|      NULL|          632.46|        27.4454217928553|17 Years and 8 Mo...|                   No| 16.415451659824875|      84.95284817115969|High_spent_Small_...| 419.8807835023488|    Standard|\n",
      "+-----------+--------+----+------------+-------------+---------------------+-----------------+---------------+-------------+-----------+--------------------+-------------------+----------------------+--------------------+--------------------+----------+----------------+------------------------+--------------------+---------------------+-------------------+-----------------------+--------------------+------------------+------------+\n",
      "only showing top 30 rows\n",
      "\n"
     ]
    }
   ],
   "source": [
    "#as most of the data with weird values has _ , we replace them with null and populate the dataset with the common values, we have to ignore payment behveius as it has legit _s\n",
    "def replace_underscore_with_null(df):\n",
    "    # Iterate through each column\n",
    "    for col_name in df.columns:\n",
    "        # Exclude 'Payment_Behaviour' from replacement\n",
    "        if col_name not in ['Customer_ID','Payment_Behaviour']:\n",
    "            # Replace values containing '_' with None\n",
    "            df = df.withColumn(col_name, F.when(F.col(col_name).contains('_'), None).otherwise(F.col(col_name)))\n",
    "\n",
    "    return df\n",
    "\n",
    "df_cleaned_underscore = replace_underscore_with_null(df)\n",
    "\n",
    "# Show the DataFrame with underscores replaced by null values\n",
    "df_cleaned_underscore.show(30)"
   ]
  },
  {
   "cell_type": "markdown",
   "metadata": {
    "id": "AXu-adjoLNYf"
   },
   "source": [
    "#### Handle invalid payment_behaviour values"
   ]
  },
  {
   "cell_type": "code",
   "execution_count": 19,
   "metadata": {
    "id": "CFNr8w3aK123"
   },
   "outputs": [
    {
     "name": "stdout",
     "output_type": "stream",
     "text": [
      "+-----------+--------+----+------------+-------------+---------------------+-----------------+---------------+-------------+-----------+--------------------+-------------------+----------------------+--------------------+--------------------+----------+----------------+------------------------+--------------------+---------------------+-------------------+-----------------------+--------------------+------------------+------------+\n",
      "|Customer_ID|   Month| Age|  Occupation|Annual_Income|Monthly_Inhand_Salary|Num_Bank_Accounts|Num_Credit_Card|Interest_Rate|Num_of_Loan|        Type_of_Loan|Delay_from_due_date|Num_of_Delayed_Payment|Changed_Credit_Limit|Num_Credit_Inquiries|Credit_Mix|Outstanding_Debt|Credit_Utilization_Ratio|  Credit_History_Age|Payment_of_Min_Amount|Total_EMI_per_month|Amount_invested_monthly|   Payment_Behaviour|   Monthly_Balance|Credit_Score|\n",
      "+-----------+--------+----+------------+-------------+---------------------+-----------------+---------------+-------------+-----------+--------------------+-------------------+----------------------+--------------------+--------------------+----------+----------------+------------------------+--------------------+---------------------+-------------------+-----------------------+--------------------+------------------+------------+\n",
      "|  CUS_0xd40| January|  23|   Scientist|     19114.12|   1824.8433333333328|                3|              4|            3|          4|Auto Loan, Credit...|                  3|                     7|               11.27|                 4.0|      NULL|          809.98|      26.822619623699016|22 Years and 1 Mo...|                   No|  49.57494921489417|      80.41529543900253|High_spent_Small_...|312.49408867943663|        Good|\n",
      "|  CUS_0xd40|February|  23|   Scientist|     19114.12|                 NULL|                3|              4|            3|          4|Auto Loan, Credit...|                 -1|                  NULL|               11.27|                 4.0|      Good|          809.98|       31.94496005538421|                  NA|                   No|  49.57494921489417|     118.28022162236736|Low_spent_Large_v...|284.62916249607184|        Good|\n",
      "|  CUS_0xd40|   March|-500|   Scientist|     19114.12|                 NULL|                3|              4|            3|          4|Auto Loan, Credit...|                  3|                     7|                NULL|                 4.0|      Good|          809.98|       28.60935202206993|22 Years and 3 Mo...|                   No|  49.57494921489417|        81.699521264648|Low_spent_Medium_...| 331.2098628537912|        Good|\n",
      "|  CUS_0xd40|   April|  23|   Scientist|     19114.12|                 NULL|                3|              4|            3|          4|Auto Loan, Credit...|                  5|                     4|                6.27|                 4.0|      Good|          809.98|      31.377861869582354|22 Years and 4 Mo...|                   No|  49.57494921489417|      199.4580743910713|Low_spent_Small_v...|223.45130972736786|        Good|\n",
      "|  CUS_0xd40|     May|  23|   Scientist|     19114.12|   1824.8433333333328|                3|              4|            3|          4|Auto Loan, Credit...|                  6|                  NULL|               11.27|                 4.0|      Good|          809.98|      24.797346908844986|22 Years and 5 Mo...|                   No|  49.57494921489417|     41.420153086217326|High_spent_Medium...|341.48923103222177|        Good|\n",
      "|  CUS_0xd40|    June|  23|   Scientist|     19114.12|                 NULL|                3|              4|            3|          4|Auto Loan, Credit...|                  8|                     4|                9.27|                 4.0|      Good|          809.98|       27.26225871052017|22 Years and 6 Mo...|                   No|  49.57494921489417|     62.430172331195294|                NULL| 340.4792117872438|        Good|\n",
      "|  CUS_0xd40|    July|  23|   Scientist|     19114.12|   1824.8433333333328|                3|              4|            3|          4|Auto Loan, Credit...|                  3|                  NULL|               11.27|                 4.0|      Good|          809.98|       22.53759303178384|22 Years and 7 Mo...|                   No|  49.57494921489417|      178.3440674122349|Low_spent_Small_v...| 244.5653167062043|        Good|\n",
      "|  CUS_0xd40|  August|  23|   Scientist|     19114.12|   1824.8433333333328|                3|              4|            3|          4|Auto Loan, Credit...|                  3|                     6|               11.27|                 4.0|      Good|          809.98|       23.93379480196552|                  NA|                   No|  49.57494921489417|     24.785216509052056|High_spent_Medium...|358.12416760938714|    Standard|\n",
      "| CUS_0x21b1| January|NULL|        NULL|     34847.84|    3037.986666666666|                2|              4|            6|          1| Credit-Builder Loan|                  3|                     4|                5.42|                 2.0|      Good|          605.03|       24.46403063758457|26 Years and 7 Mo...|                   No| 18.816214573128885|       104.291825168246|Low_spent_Small_v...|470.69062692529184|    Standard|\n",
      "| CUS_0x21b1|February|  28|     Teacher|     34847.84|    3037.986666666666|                2|              4|            6|          1| Credit-Builder Loan|                  7|                     1|                7.42|                 2.0|      Good|          605.03|      38.550848433956325|26 Years and 8 Mo...|                   No| 18.816214573128885|      40.39123782853101|High_spent_Large_...| 484.5912142650067|        Good|\n",
      "| CUS_0x21b1|   March|  28|     Teacher|         NULL|    3037.986666666666|                2|           1385|            6|          1| Credit-Builder Loan|                  3|                    -1|                5.42|                 2.0|      NULL|          605.03|       33.22495078663659|26 Years and 9 Mo...|                   No| 18.816214573128885|      58.51597569589465|High_spent_Large_...|466.46647639764313|    Standard|\n",
      "| CUS_0x21b1|   April|  28|     Teacher|     34847.84|                 NULL|                2|              4|            6|          1| Credit-Builder Loan|                  3|                  NULL|                5.42|                 2.0|      Good|          605.03|       39.18265565546884|26 Years and 10 M...|                   No| 18.816214573128885|      99.30622796053305|Low_spent_Medium_...| 465.6762241330048|        Good|\n",
      "| CUS_0x21b1|     May|  28|     Teacher|     34847.84|    3037.986666666666|                2|              4|            6|          1| Credit-Builder Loan|                  3|                     1|                6.42|                 2.0|      Good|          605.03|       34.97789474709241|26 Years and 11 M...|                   No| 18.816214573128885|     130.11542024292334|Low_spent_Small_v...| 444.8670318506144|        Good|\n",
      "| CUS_0x21b1|    June|  28|     Teacher|     34847.84|    3037.986666666666|                2|              4|            6|          1| Credit-Builder Loan|                  3|                     0|                5.42|                 2.0|      Good|          605.03|       33.38101020065065|27 Years and 0 Mo...|                   No| 18.816214573128885|     43.477190144355745|High_spent_Large_...|  481.505261949182|        Good|\n",
      "| CUS_0x21b1|    July|  28|     Teacher|     34847.84|                 NULL|                2|              4|            6|          1| Credit-Builder Loan|                  3|                     4|                5.42|                 2.0|      Good|          605.03|      31.131701611553307|27 Years and 1 Mo...|                   NM| 18.816214573128885|      70.10177420755677|High_spent_Medium...| 464.8806778859809|        Good|\n",
      "| CUS_0x21b1|  August|  28|     Teacher|     34847.84|    3037.986666666666|                2|              4|            6|          1| Credit-Builder Loan|                  3|                     4|                5.42|                 2.0|      Good|          605.03|      32.933856293622235|27 Years and 2 Mo...|                   No| 18.816214573128885|     218.90434353388733|Low_spent_Small_v...|356.07810855965045|        Good|\n",
      "| CUS_0x2dbc| January|  34|        NULL|    143162.64|             12187.22|                1|              5|            8|          3|Auto Loan, Auto L...|                  5|                     8|                 7.1|                 3.0|      Good|         1303.01|      28.616734823006844|17 Years and 9 Mo...|                   No|  246.9923194537421|       168.413702679309|                NULL|1043.3159778669492|        Good|\n",
      "| CUS_0x2dbc|February|  34|    Engineer|    143162.64|             12187.22|                1|              5|            8|          3|Auto Loan, Auto L...|                 13|                     6|                 7.1|                 3.0|      Good|         1303.01|       41.70257342393906|17 Years and 10 M...|                   No|  246.9923194537421|     232.86038375993544|High_spent_Small_...| 998.8692967863226|        Good|\n",
      "| CUS_0x2dbc|   March|  34|        NULL|    143162.64|                 NULL|                1|              5|            8|          3|Auto Loan, Auto L...|                  8|                     7|                11.1|                NULL|      Good|         1303.01|      26.519815391546498|17 Years and 11 M...|                   No|  246.9923194537421|                   NULL|High_spent_Small_...|  715.741367403555|        Good|\n",
      "| CUS_0x2dbc|   April|  34|    Engineer|    143162.64|             12187.22|                1|              5|            8|          3|Auto Loan, Auto L...|                  8|                     5|                 9.1|                 3.0|      NULL|         1303.01|       39.50164810812735|                  NA|                   No|  246.9923194537421|      825.2162699393922|Low_spent_Medium_...| 426.5134106068658|        Good|\n",
      "| CUS_0x2dbc|     May|  34|        NULL|    143162.64|             12187.22|                1|              5|            8|          3|Auto Loan, Auto L...|                 10|                     5|                 7.1|                 3.0|      Good|         1303.01|       31.37614957421204|18 Years and 1 Mo...|                   No|  246.9923194537421|      430.9475278803298|Low_spent_Large_v...| 810.7821526659284|        Good|\n",
      "| CUS_0x2dbc|    June|  34|    Engineer|    143162.64|             12187.22|                1|              5|            8|        967|Auto Loan, Auto L...|                  8|                     6|                 7.1|                 3.0|      Good|         1303.01|      39.783993458021186|18 Years and 2 Mo...|                   No|  246.9923194537421|     257.80809942568976|High_spent_Medium...| 963.9215811205684|        Good|\n",
      "| CUS_0x2dbc|    July|  34|    Engineer|    143162.64|             12187.22|                1|              5|            8|          3|Auto Loan, Auto L...|                  8|                     6|                 7.1|                 3.0|      Good|         1303.01|      38.068623627698585|18 Years and 3 Mo...|                   No|  246.9923194537421|     263.17416316163934|High_spent_Small_...| 968.5555173846187|    Standard|\n",
      "| CUS_0x2dbc|  August|  34|    Engineer|    143162.64|             12187.22|                1|              5|            8|          3|Auto Loan, Auto L...|                  8|                     6|                 7.1|                 3.0|      Good|         1303.01|       38.37475294778511|18 Years and 4 Mo...|                   No|  246.9923194537421|                   NULL|High_spent_Small_...|  895.494583180492|    Standard|\n",
      "| CUS_0xb891| January|  54|Entrepreneur|     30689.89|   2612.4908333333333|                2|              5|            4|          1|       Not Specified|                  0|                     6|                1.99|                 4.0|      Good|          632.46|       26.54422872407309|17 Years and 3 Mo...|                   No| 16.415451659824875|      81.22885871073616|Low_spent_Large_v...| 433.6047729627723|    Standard|\n",
      "| CUS_0xb891|February|  54|Entrepreneur|     30689.89|   2612.4908333333333|                2|              5|            4|          1|       Not Specified|                  5|                     3|                1.99|                 4.0|      Good|          632.46|      35.279981779008544|17 Years and 4 Mo...|                   No| 16.415451659824875|     124.88181990234848|Low_spent_Small_v...|409.95181177115995|    Standard|\n",
      "| CUS_0xb891|   March|  55|Entrepreneur|     30689.89|   2612.4908333333333|                2|              5|            4|          1|       Not Specified|                  3|                     9|                1.99|                 4.0|      Good|          632.46|       32.30116343180253|17 Years and 5 Mo...|                   NM| 16.415451659824875|      83.40650880252501|High_spent_Medium...|411.42712287098345|    Standard|\n",
      "| CUS_0xb891|   April|  55|Entrepreneur|         NULL|   2612.4908333333333|                2|              5|            4|          1|       Not Specified|                  7|                     6|               -2.01|                 4.0|      Good|          632.46|      38.132348192570056|17 Years and 6 Mo...|                   No| 16.415451659824875|      272.3340373956682|Low_spent_Small_v...| 262.4995942778403|    Standard|\n",
      "| CUS_0xb891|     May|  55|Entrepreneur|     30689.89|   2612.4908333333333|                2|              5|            4|          1|       Not Specified|                  5|                     6|               -1.01|                 4.0|      Good|          632.46|       41.15431654696947|17 Years and 7 Mo...|                   No| 16.415451659824875|                   NULL|Low_spent_Large_v...|359.37491550776383|    Standard|\n",
      "| CUS_0xb891|    June|  55|        NULL|     30689.89|   2612.4908333333333|                2|              5|            4|          1|       Not Specified|                  5|                     6|               -3.01|                 4.0|      NULL|          632.46|        27.4454217928553|17 Years and 8 Mo...|                   No| 16.415451659824875|      84.95284817115969|High_spent_Small_...| 419.8807835023488|    Standard|\n",
      "+-----------+--------+----+------------+-------------+---------------------+-----------------+---------------+-------------+-----------+--------------------+-------------------+----------------------+--------------------+--------------------+----------+----------------+------------------------+--------------------+---------------------+-------------------+-----------------------+--------------------+------------------+------------+\n",
      "only showing top 30 rows\n",
      "\n"
     ]
    }
   ],
   "source": [
    "#As the Column Payment_Behaviours has some strange values like !@9#%8, we clear them and replace them with null\n",
    "df_cleaned_underscore_weirdvalues = df_cleaned_underscore.withColumn('Payment_Behaviour', F.when(F.col('Payment_Behaviour').isin('!@9#%8'), None).otherwise(F.col('Payment_Behaviour')))\n",
    "df_cleaned_underscore_weirdvalues.show(30)"
   ]
  },
  {
   "cell_type": "markdown",
   "metadata": {
    "id": "LSbWO0rlgdd4"
   },
   "source": [
    "### Handle missing data\n",
    "\n"
   ]
  },
  {
   "cell_type": "markdown",
   "metadata": {
    "id": "obzBlZoFPsJd"
   },
   "source": [
    "#### #Drop old missing values method"
   ]
  },
  {
   "cell_type": "code",
   "execution_count": 20,
   "metadata": {
    "id": "4j_uGZWOdSTY"
   },
   "outputs": [],
   "source": [
    "# from functools import reduce\n",
    "# from pyspark.sql.functions import col, when\n",
    "\n",
    "# def any_null(cols):\n",
    "#     return reduce(lambda a, b: a | b, (col(c).isNull() for c in cols))\n",
    "\n",
    "# rows_with_missing = df.filter(any_null(df.columns)).count()\n",
    "\n",
    "# percentage_dropped = rows_with_missing / df.count() * 100\n",
    "# print(f\"Rows with missing values: {rows_with_missing}/ {df.count()}\" )\n",
    "# print(f\"Percentage of missing values: {percentage_dropped}%\")\n",
    "\n",
    "\n",
    "# df_cleaned = df.dropna()\n",
    "\n",
    "# print(f\"Rows in cleaned DataFrame: {df_cleaned.count()}\")\n"
   ]
  },
  {
   "cell_type": "markdown",
   "metadata": {
    "id": "y7O6Ux-anY2O"
   },
   "source": [
    "### Identifying Categorical and numerical columns"
   ]
  },
  {
   "cell_type": "code",
   "execution_count": 21,
   "metadata": {
    "id": "0W9EPWHsnYjK"
   },
   "outputs": [],
   "source": [
    "categorical = ['Month', 'Occupation', 'Type_of_Loan', 'Credit_Mix', 'Credit_History_Age', 'Payment_of_Min_Amount', 'Payment_Behaviour', 'Credit_Score']\n",
    "numerical = ['Age', 'Annual_Income', 'Monthly_Inhand_Salary', 'Num_Bank_Accounts', 'Num_Credit_Card', 'Interest_Rate', 'Num_of_Loan', 'Delay_from_due_date', 'Num_of_Delayed_Payment', 'Changed_Credit_Limit', 'Num_Credit_Inquiries', 'Outstanding_Debt', 'Credit_Utilization_Ratio', 'Total_EMI_per_month', 'Amount_invested_monthly', 'Monthly_Balance']\n",
    "stages = []\n",
    "\n"
   ]
  },
  {
   "cell_type": "markdown",
   "metadata": {
    "id": "LQecrpWpWTB6"
   },
   "source": [
    "### Transforming columns and data"
   ]
  },
  {
   "cell_type": "markdown",
   "metadata": {
    "id": "A8xRE6HpPfIV"
   },
   "source": [
    "#### Manually mapping"
   ]
  },
  {
   "cell_type": "code",
   "execution_count": 22,
   "metadata": {
    "id": "4FK0yZX1Pisf"
   },
   "outputs": [],
   "source": [
    "#helper function to change of all the values to integer\n",
    "def map_values_to_int(df, column_name, mapping_dict):\n",
    "    \"\"\"\n",
    "    Replace values in the specified column of a DataFrame with mapped integer values.\n",
    "\n",
    "    Parameters:\n",
    "    - df: PySpark DataFrame\n",
    "    - column_name: Name of the column to be mapped\n",
    "    - mapping_dict: Dictionary for mapping values to integers\n",
    "\n",
    "    Returns:\n",
    "    - df: PySpark DataFrame with the updated column\n",
    "    \"\"\"\n",
    "\n",
    "    # Define a function to map values to integers based on the provided dictionary\n",
    "    def map_to_int(value):\n",
    "        return mapping_dict.get(value, None)\n",
    "\n",
    "    # Create a UDF (User Defined Function) for mapping\n",
    "    map_udf = F.udf(map_to_int, IntegerType())\n",
    "\n",
    "    # Apply mapping to the specified column and create a new column with '_Int' suffix\n",
    "    df_mapped = df.withColumn(column_name, map_udf(column_name))\n",
    "\n",
    "    return df_mapped"
   ]
  },
  {
   "cell_type": "code",
   "execution_count": 29,
   "metadata": {
    "id": "goBjz6CdP09y"
   },
   "outputs": [],
   "source": [
    "# Define mapping dictionaries for each column\n",
    "month_mapping = {'January': 1, 'February': 2, 'March': 3, 'April': 4, 'May': 5, 'June': 6, 'July': 7, 'August': 8}\n",
    "occupation_mapping = {'Scientist': 1, 'Musician': 2, 'Lawyer': 3, 'Teacher': 4, 'Developer': 5, 'Writer': 6,\n",
    "                      'Architect': 7, 'Mechanic': 8, 'Entrepreneur': 9, 'Journalist': 10, 'Doctor': 11,\n",
    "                      'Engineer': 12, 'Accountant': 13, 'Manager': 14}\n",
    "credit_mix_mapping = {'Poor': 1, 'Standard': 2, 'Good': 3}\n",
    "payment_of_min_amount_mapping = {'No': 0, 'Yes': 1, 'NM': -1}\n",
    "payment_behaviour_mapping = {'Low_spent_Small_value_payments': 1, 'High_spent_Small_value_payments': 2,\n",
    "                             'Low_spent_Medium_value_payments': 3, 'High_spent_Medium_value_payments': 4,\n",
    "                             'Low_spent_Large_value_payments': 5, 'High_spent_Large_value_payments': 6}\n",
    "credit_score_mapping = {'Poor': 1, 'Standard': 2, 'Good': 3}\n",
    "\n",
    "\n",
    "df_mapped = map_values_to_int(df_cleaned_underscore_weirdvalues, 'Month', month_mapping)\n",
    "df_mapped = map_values_to_int(df_mapped, 'Occupation', occupation_mapping)\n",
    "df_mapped = map_values_to_int(df_mapped, 'Credit_Mix', credit_mix_mapping)\n",
    "df_mapped = map_values_to_int(df_mapped, 'Payment_of_Min_Amount', payment_of_min_amount_mapping)\n",
    "df_mapped = map_values_to_int(df_mapped, 'Payment_Behaviour', payment_behaviour_mapping)\n",
    "\n"
   ]
  },
  {
   "cell_type": "code",
   "execution_count": 30,
   "metadata": {
    "id": "swaeNAjIP5FE"
   },
   "outputs": [
    {
     "ename": "Py4JJavaError",
     "evalue": "An error occurred while calling o731.showString.\n: org.apache.spark.SparkException: Job aborted due to stage failure: Task 0 in stage 26.0 failed 1 times, most recent failure: Lost task 0.0 in stage 26.0 (TID 86) (DESKTOP-339FDGT executor driver): org.apache.spark.SparkException: Python worker failed to connect back.\r\n\tat org.apache.spark.api.python.PythonWorkerFactory.createSimpleWorker(PythonWorkerFactory.scala:203)\r\n\tat org.apache.spark.api.python.PythonWorkerFactory.create(PythonWorkerFactory.scala:109)\r\n\tat org.apache.spark.SparkEnv.createPythonWorker(SparkEnv.scala:124)\r\n\tat org.apache.spark.api.python.BasePythonRunner.compute(PythonRunner.scala:174)\r\n\tat org.apache.spark.sql.execution.python.BatchEvalPythonExec.evaluate(BatchEvalPythonExec.scala:54)\r\n\tat org.apache.spark.sql.execution.python.EvalPythonExec.$anonfun$doExecute$2(EvalPythonExec.scala:131)\r\n\tat org.apache.spark.rdd.RDD.$anonfun$mapPartitions$2(RDD.scala:855)\r\n\tat org.apache.spark.rdd.RDD.$anonfun$mapPartitions$2$adapted(RDD.scala:855)\r\n\tat org.apache.spark.rdd.MapPartitionsRDD.compute(MapPartitionsRDD.scala:52)\r\n\tat org.apache.spark.rdd.RDD.computeOrReadCheckpoint(RDD.scala:364)\r\n\tat org.apache.spark.rdd.RDD.iterator(RDD.scala:328)\r\n\tat org.apache.spark.rdd.MapPartitionsRDD.compute(MapPartitionsRDD.scala:52)\r\n\tat org.apache.spark.rdd.RDD.computeOrReadCheckpoint(RDD.scala:364)\r\n\tat org.apache.spark.rdd.RDD.iterator(RDD.scala:328)\r\n\tat org.apache.spark.rdd.MapPartitionsRDD.compute(MapPartitionsRDD.scala:52)\r\n\tat org.apache.spark.rdd.RDD.computeOrReadCheckpoint(RDD.scala:364)\r\n\tat org.apache.spark.rdd.RDD.iterator(RDD.scala:328)\r\n\tat org.apache.spark.scheduler.ResultTask.runTask(ResultTask.scala:93)\r\n\tat org.apache.spark.TaskContext.runTaskWithListeners(TaskContext.scala:161)\r\n\tat org.apache.spark.scheduler.Task.run(Task.scala:141)\r\n\tat org.apache.spark.executor.Executor$TaskRunner.$anonfun$run$4(Executor.scala:620)\r\n\tat org.apache.spark.util.SparkErrorUtils.tryWithSafeFinally(SparkErrorUtils.scala:64)\r\n\tat org.apache.spark.util.SparkErrorUtils.tryWithSafeFinally$(SparkErrorUtils.scala:61)\r\n\tat org.apache.spark.util.Utils$.tryWithSafeFinally(Utils.scala:94)\r\n\tat org.apache.spark.executor.Executor$TaskRunner.run(Executor.scala:623)\r\n\tat java.util.concurrent.ThreadPoolExecutor.runWorker(ThreadPoolExecutor.java:1149)\r\n\tat java.util.concurrent.ThreadPoolExecutor$Worker.run(ThreadPoolExecutor.java:624)\r\n\tat java.lang.Thread.run(Thread.java:748)\r\nCaused by: java.net.SocketTimeoutException: Accept timed out\r\n\tat java.net.DualStackPlainSocketImpl.waitForNewConnection(Native Method)\r\n\tat java.net.DualStackPlainSocketImpl.socketAccept(DualStackPlainSocketImpl.java:135)\r\n\tat java.net.AbstractPlainSocketImpl.accept(AbstractPlainSocketImpl.java:409)\r\n\tat java.net.PlainSocketImpl.accept(PlainSocketImpl.java:199)\r\n\tat java.net.ServerSocket.implAccept(ServerSocket.java:545)\r\n\tat java.net.ServerSocket.accept(ServerSocket.java:513)\r\n\tat org.apache.spark.api.python.PythonWorkerFactory.createSimpleWorker(PythonWorkerFactory.scala:190)\r\n\t... 27 more\r\n\nDriver stacktrace:\r\n\tat org.apache.spark.scheduler.DAGScheduler.failJobAndIndependentStages(DAGScheduler.scala:2844)\r\n\tat org.apache.spark.scheduler.DAGScheduler.$anonfun$abortStage$2(DAGScheduler.scala:2780)\r\n\tat org.apache.spark.scheduler.DAGScheduler.$anonfun$abortStage$2$adapted(DAGScheduler.scala:2779)\r\n\tat scala.collection.mutable.ResizableArray.foreach(ResizableArray.scala:62)\r\n\tat scala.collection.mutable.ResizableArray.foreach$(ResizableArray.scala:55)\r\n\tat scala.collection.mutable.ArrayBuffer.foreach(ArrayBuffer.scala:49)\r\n\tat org.apache.spark.scheduler.DAGScheduler.abortStage(DAGScheduler.scala:2779)\r\n\tat org.apache.spark.scheduler.DAGScheduler.$anonfun$handleTaskSetFailed$1(DAGScheduler.scala:1242)\r\n\tat org.apache.spark.scheduler.DAGScheduler.$anonfun$handleTaskSetFailed$1$adapted(DAGScheduler.scala:1242)\r\n\tat scala.Option.foreach(Option.scala:407)\r\n\tat org.apache.spark.scheduler.DAGScheduler.handleTaskSetFailed(DAGScheduler.scala:1242)\r\n\tat org.apache.spark.scheduler.DAGSchedulerEventProcessLoop.doOnReceive(DAGScheduler.scala:3048)\r\n\tat org.apache.spark.scheduler.DAGSchedulerEventProcessLoop.onReceive(DAGScheduler.scala:2982)\r\n\tat org.apache.spark.scheduler.DAGSchedulerEventProcessLoop.onReceive(DAGScheduler.scala:2971)\r\n\tat org.apache.spark.util.EventLoop$$anon$1.run(EventLoop.scala:49)\r\n\tat org.apache.spark.scheduler.DAGScheduler.runJob(DAGScheduler.scala:984)\r\n\tat org.apache.spark.SparkContext.runJob(SparkContext.scala:2398)\r\n\tat org.apache.spark.SparkContext.runJob(SparkContext.scala:2419)\r\n\tat org.apache.spark.SparkContext.runJob(SparkContext.scala:2438)\r\n\tat org.apache.spark.sql.execution.SparkPlan.executeTake(SparkPlan.scala:530)\r\n\tat org.apache.spark.sql.execution.SparkPlan.executeTake(SparkPlan.scala:483)\r\n\tat org.apache.spark.sql.execution.CollectLimitExec.executeCollect(limit.scala:61)\r\n\tat org.apache.spark.sql.Dataset.collectFromPlan(Dataset.scala:4344)\r\n\tat org.apache.spark.sql.Dataset.$anonfun$head$1(Dataset.scala:3326)\r\n\tat org.apache.spark.sql.Dataset.$anonfun$withAction$2(Dataset.scala:4334)\r\n\tat org.apache.spark.sql.execution.QueryExecution$.withInternalError(QueryExecution.scala:546)\r\n\tat org.apache.spark.sql.Dataset.$anonfun$withAction$1(Dataset.scala:4332)\r\n\tat org.apache.spark.sql.execution.SQLExecution$.$anonfun$withNewExecutionId$6(SQLExecution.scala:125)\r\n\tat org.apache.spark.sql.execution.SQLExecution$.withSQLConfPropagated(SQLExecution.scala:201)\r\n\tat org.apache.spark.sql.execution.SQLExecution$.$anonfun$withNewExecutionId$1(SQLExecution.scala:108)\r\n\tat org.apache.spark.sql.SparkSession.withActive(SparkSession.scala:900)\r\n\tat org.apache.spark.sql.execution.SQLExecution$.withNewExecutionId(SQLExecution.scala:66)\r\n\tat org.apache.spark.sql.Dataset.withAction(Dataset.scala:4332)\r\n\tat org.apache.spark.sql.Dataset.head(Dataset.scala:3326)\r\n\tat org.apache.spark.sql.Dataset.take(Dataset.scala:3549)\r\n\tat org.apache.spark.sql.Dataset.getRows(Dataset.scala:280)\r\n\tat org.apache.spark.sql.Dataset.showString(Dataset.scala:315)\r\n\tat sun.reflect.NativeMethodAccessorImpl.invoke0(Native Method)\r\n\tat sun.reflect.NativeMethodAccessorImpl.invoke(NativeMethodAccessorImpl.java:62)\r\n\tat sun.reflect.DelegatingMethodAccessorImpl.invoke(DelegatingMethodAccessorImpl.java:43)\r\n\tat java.lang.reflect.Method.invoke(Method.java:498)\r\n\tat py4j.reflection.MethodInvoker.invoke(MethodInvoker.java:244)\r\n\tat py4j.reflection.ReflectionEngine.invoke(ReflectionEngine.java:374)\r\n\tat py4j.Gateway.invoke(Gateway.java:282)\r\n\tat py4j.commands.AbstractCommand.invokeMethod(AbstractCommand.java:132)\r\n\tat py4j.commands.CallCommand.execute(CallCommand.java:79)\r\n\tat py4j.ClientServerConnection.waitForCommands(ClientServerConnection.java:182)\r\n\tat py4j.ClientServerConnection.run(ClientServerConnection.java:106)\r\n\tat java.lang.Thread.run(Thread.java:748)\r\nCaused by: org.apache.spark.SparkException: Python worker failed to connect back.\r\n\tat org.apache.spark.api.python.PythonWorkerFactory.createSimpleWorker(PythonWorkerFactory.scala:203)\r\n\tat org.apache.spark.api.python.PythonWorkerFactory.create(PythonWorkerFactory.scala:109)\r\n\tat org.apache.spark.SparkEnv.createPythonWorker(SparkEnv.scala:124)\r\n\tat org.apache.spark.api.python.BasePythonRunner.compute(PythonRunner.scala:174)\r\n\tat org.apache.spark.sql.execution.python.BatchEvalPythonExec.evaluate(BatchEvalPythonExec.scala:54)\r\n\tat org.apache.spark.sql.execution.python.EvalPythonExec.$anonfun$doExecute$2(EvalPythonExec.scala:131)\r\n\tat org.apache.spark.rdd.RDD.$anonfun$mapPartitions$2(RDD.scala:855)\r\n\tat org.apache.spark.rdd.RDD.$anonfun$mapPartitions$2$adapted(RDD.scala:855)\r\n\tat org.apache.spark.rdd.MapPartitionsRDD.compute(MapPartitionsRDD.scala:52)\r\n\tat org.apache.spark.rdd.RDD.computeOrReadCheckpoint(RDD.scala:364)\r\n\tat org.apache.spark.rdd.RDD.iterator(RDD.scala:328)\r\n\tat org.apache.spark.rdd.MapPartitionsRDD.compute(MapPartitionsRDD.scala:52)\r\n\tat org.apache.spark.rdd.RDD.computeOrReadCheckpoint(RDD.scala:364)\r\n\tat org.apache.spark.rdd.RDD.iterator(RDD.scala:328)\r\n\tat org.apache.spark.rdd.MapPartitionsRDD.compute(MapPartitionsRDD.scala:52)\r\n\tat org.apache.spark.rdd.RDD.computeOrReadCheckpoint(RDD.scala:364)\r\n\tat org.apache.spark.rdd.RDD.iterator(RDD.scala:328)\r\n\tat org.apache.spark.scheduler.ResultTask.runTask(ResultTask.scala:93)\r\n\tat org.apache.spark.TaskContext.runTaskWithListeners(TaskContext.scala:161)\r\n\tat org.apache.spark.scheduler.Task.run(Task.scala:141)\r\n\tat org.apache.spark.executor.Executor$TaskRunner.$anonfun$run$4(Executor.scala:620)\r\n\tat org.apache.spark.util.SparkErrorUtils.tryWithSafeFinally(SparkErrorUtils.scala:64)\r\n\tat org.apache.spark.util.SparkErrorUtils.tryWithSafeFinally$(SparkErrorUtils.scala:61)\r\n\tat org.apache.spark.util.Utils$.tryWithSafeFinally(Utils.scala:94)\r\n\tat org.apache.spark.executor.Executor$TaskRunner.run(Executor.scala:623)\r\n\tat java.util.concurrent.ThreadPoolExecutor.runWorker(ThreadPoolExecutor.java:1149)\r\n\tat java.util.concurrent.ThreadPoolExecutor$Worker.run(ThreadPoolExecutor.java:624)\r\n\t... 1 more\r\nCaused by: java.net.SocketTimeoutException: Accept timed out\r\n\tat java.net.DualStackPlainSocketImpl.waitForNewConnection(Native Method)\r\n\tat java.net.DualStackPlainSocketImpl.socketAccept(DualStackPlainSocketImpl.java:135)\r\n\tat java.net.AbstractPlainSocketImpl.accept(AbstractPlainSocketImpl.java:409)\r\n\tat java.net.PlainSocketImpl.accept(PlainSocketImpl.java:199)\r\n\tat java.net.ServerSocket.implAccept(ServerSocket.java:545)\r\n\tat java.net.ServerSocket.accept(ServerSocket.java:513)\r\n\tat org.apache.spark.api.python.PythonWorkerFactory.createSimpleWorker(PythonWorkerFactory.scala:190)\r\n\t... 27 more\r\n",
     "output_type": "error",
     "traceback": [
      "\u001b[1;31m---------------------------------------------------------------------------\u001b[0m",
      "\u001b[1;31mPy4JJavaError\u001b[0m                             Traceback (most recent call last)",
      "Cell \u001b[1;32mIn[30], line 2\u001b[0m\n\u001b[0;32m      1\u001b[0m \u001b[38;5;66;03m#All the values have been mapped to integer values\u001b[39;00m\n\u001b[1;32m----> 2\u001b[0m df_mapped\u001b[38;5;241m.\u001b[39mshow(\u001b[38;5;241m50\u001b[39m)\n",
      "File \u001b[1;32mD:\\Anaconda\\Lib\\site-packages\\pyspark\\sql\\dataframe.py:959\u001b[0m, in \u001b[0;36mDataFrame.show\u001b[1;34m(self, n, truncate, vertical)\u001b[0m\n\u001b[0;32m    953\u001b[0m     \u001b[38;5;28;01mraise\u001b[39;00m PySparkTypeError(\n\u001b[0;32m    954\u001b[0m         error_class\u001b[38;5;241m=\u001b[39m\u001b[38;5;124m\"\u001b[39m\u001b[38;5;124mNOT_BOOL\u001b[39m\u001b[38;5;124m\"\u001b[39m,\n\u001b[0;32m    955\u001b[0m         message_parameters\u001b[38;5;241m=\u001b[39m{\u001b[38;5;124m\"\u001b[39m\u001b[38;5;124marg_name\u001b[39m\u001b[38;5;124m\"\u001b[39m: \u001b[38;5;124m\"\u001b[39m\u001b[38;5;124mvertical\u001b[39m\u001b[38;5;124m\"\u001b[39m, \u001b[38;5;124m\"\u001b[39m\u001b[38;5;124marg_type\u001b[39m\u001b[38;5;124m\"\u001b[39m: \u001b[38;5;28mtype\u001b[39m(vertical)\u001b[38;5;241m.\u001b[39m\u001b[38;5;18m__name__\u001b[39m},\n\u001b[0;32m    956\u001b[0m     )\n\u001b[0;32m    958\u001b[0m \u001b[38;5;28;01mif\u001b[39;00m \u001b[38;5;28misinstance\u001b[39m(truncate, \u001b[38;5;28mbool\u001b[39m) \u001b[38;5;129;01mand\u001b[39;00m truncate:\n\u001b[1;32m--> 959\u001b[0m     \u001b[38;5;28mprint\u001b[39m(\u001b[38;5;28mself\u001b[39m\u001b[38;5;241m.\u001b[39m_jdf\u001b[38;5;241m.\u001b[39mshowString(n, \u001b[38;5;241m20\u001b[39m, vertical))\n\u001b[0;32m    960\u001b[0m \u001b[38;5;28;01melse\u001b[39;00m:\n\u001b[0;32m    961\u001b[0m     \u001b[38;5;28;01mtry\u001b[39;00m:\n",
      "File \u001b[1;32mD:\\Anaconda\\Lib\\site-packages\\py4j\\java_gateway.py:1322\u001b[0m, in \u001b[0;36mJavaMember.__call__\u001b[1;34m(self, *args)\u001b[0m\n\u001b[0;32m   1316\u001b[0m command \u001b[38;5;241m=\u001b[39m proto\u001b[38;5;241m.\u001b[39mCALL_COMMAND_NAME \u001b[38;5;241m+\u001b[39m\\\n\u001b[0;32m   1317\u001b[0m     \u001b[38;5;28mself\u001b[39m\u001b[38;5;241m.\u001b[39mcommand_header \u001b[38;5;241m+\u001b[39m\\\n\u001b[0;32m   1318\u001b[0m     args_command \u001b[38;5;241m+\u001b[39m\\\n\u001b[0;32m   1319\u001b[0m     proto\u001b[38;5;241m.\u001b[39mEND_COMMAND_PART\n\u001b[0;32m   1321\u001b[0m answer \u001b[38;5;241m=\u001b[39m \u001b[38;5;28mself\u001b[39m\u001b[38;5;241m.\u001b[39mgateway_client\u001b[38;5;241m.\u001b[39msend_command(command)\n\u001b[1;32m-> 1322\u001b[0m return_value \u001b[38;5;241m=\u001b[39m get_return_value(\n\u001b[0;32m   1323\u001b[0m     answer, \u001b[38;5;28mself\u001b[39m\u001b[38;5;241m.\u001b[39mgateway_client, \u001b[38;5;28mself\u001b[39m\u001b[38;5;241m.\u001b[39mtarget_id, \u001b[38;5;28mself\u001b[39m\u001b[38;5;241m.\u001b[39mname)\n\u001b[0;32m   1325\u001b[0m \u001b[38;5;28;01mfor\u001b[39;00m temp_arg \u001b[38;5;129;01min\u001b[39;00m temp_args:\n\u001b[0;32m   1326\u001b[0m     \u001b[38;5;28;01mif\u001b[39;00m \u001b[38;5;28mhasattr\u001b[39m(temp_arg, \u001b[38;5;124m\"\u001b[39m\u001b[38;5;124m_detach\u001b[39m\u001b[38;5;124m\"\u001b[39m):\n",
      "File \u001b[1;32mD:\\Anaconda\\Lib\\site-packages\\pyspark\\errors\\exceptions\\captured.py:179\u001b[0m, in \u001b[0;36mcapture_sql_exception.<locals>.deco\u001b[1;34m(*a, **kw)\u001b[0m\n\u001b[0;32m    177\u001b[0m \u001b[38;5;28;01mdef\u001b[39;00m \u001b[38;5;21mdeco\u001b[39m(\u001b[38;5;241m*\u001b[39ma: Any, \u001b[38;5;241m*\u001b[39m\u001b[38;5;241m*\u001b[39mkw: Any) \u001b[38;5;241m-\u001b[39m\u001b[38;5;241m>\u001b[39m Any:\n\u001b[0;32m    178\u001b[0m     \u001b[38;5;28;01mtry\u001b[39;00m:\n\u001b[1;32m--> 179\u001b[0m         \u001b[38;5;28;01mreturn\u001b[39;00m f(\u001b[38;5;241m*\u001b[39ma, \u001b[38;5;241m*\u001b[39m\u001b[38;5;241m*\u001b[39mkw)\n\u001b[0;32m    180\u001b[0m     \u001b[38;5;28;01mexcept\u001b[39;00m Py4JJavaError \u001b[38;5;28;01mas\u001b[39;00m e:\n\u001b[0;32m    181\u001b[0m         converted \u001b[38;5;241m=\u001b[39m convert_exception(e\u001b[38;5;241m.\u001b[39mjava_exception)\n",
      "File \u001b[1;32mD:\\Anaconda\\Lib\\site-packages\\py4j\\protocol.py:326\u001b[0m, in \u001b[0;36mget_return_value\u001b[1;34m(answer, gateway_client, target_id, name)\u001b[0m\n\u001b[0;32m    324\u001b[0m value \u001b[38;5;241m=\u001b[39m OUTPUT_CONVERTER[\u001b[38;5;28mtype\u001b[39m](answer[\u001b[38;5;241m2\u001b[39m:], gateway_client)\n\u001b[0;32m    325\u001b[0m \u001b[38;5;28;01mif\u001b[39;00m answer[\u001b[38;5;241m1\u001b[39m] \u001b[38;5;241m==\u001b[39m REFERENCE_TYPE:\n\u001b[1;32m--> 326\u001b[0m     \u001b[38;5;28;01mraise\u001b[39;00m Py4JJavaError(\n\u001b[0;32m    327\u001b[0m         \u001b[38;5;124m\"\u001b[39m\u001b[38;5;124mAn error occurred while calling \u001b[39m\u001b[38;5;132;01m{0}\u001b[39;00m\u001b[38;5;132;01m{1}\u001b[39;00m\u001b[38;5;132;01m{2}\u001b[39;00m\u001b[38;5;124m.\u001b[39m\u001b[38;5;130;01m\\n\u001b[39;00m\u001b[38;5;124m\"\u001b[39m\u001b[38;5;241m.\u001b[39m\n\u001b[0;32m    328\u001b[0m         \u001b[38;5;28mformat\u001b[39m(target_id, \u001b[38;5;124m\"\u001b[39m\u001b[38;5;124m.\u001b[39m\u001b[38;5;124m\"\u001b[39m, name), value)\n\u001b[0;32m    329\u001b[0m \u001b[38;5;28;01melse\u001b[39;00m:\n\u001b[0;32m    330\u001b[0m     \u001b[38;5;28;01mraise\u001b[39;00m Py4JError(\n\u001b[0;32m    331\u001b[0m         \u001b[38;5;124m\"\u001b[39m\u001b[38;5;124mAn error occurred while calling \u001b[39m\u001b[38;5;132;01m{0}\u001b[39;00m\u001b[38;5;132;01m{1}\u001b[39;00m\u001b[38;5;132;01m{2}\u001b[39;00m\u001b[38;5;124m. Trace:\u001b[39m\u001b[38;5;130;01m\\n\u001b[39;00m\u001b[38;5;132;01m{3}\u001b[39;00m\u001b[38;5;130;01m\\n\u001b[39;00m\u001b[38;5;124m\"\u001b[39m\u001b[38;5;241m.\u001b[39m\n\u001b[0;32m    332\u001b[0m         \u001b[38;5;28mformat\u001b[39m(target_id, \u001b[38;5;124m\"\u001b[39m\u001b[38;5;124m.\u001b[39m\u001b[38;5;124m\"\u001b[39m, name, value))\n",
      "\u001b[1;31mPy4JJavaError\u001b[0m: An error occurred while calling o731.showString.\n: org.apache.spark.SparkException: Job aborted due to stage failure: Task 0 in stage 26.0 failed 1 times, most recent failure: Lost task 0.0 in stage 26.0 (TID 86) (DESKTOP-339FDGT executor driver): org.apache.spark.SparkException: Python worker failed to connect back.\r\n\tat org.apache.spark.api.python.PythonWorkerFactory.createSimpleWorker(PythonWorkerFactory.scala:203)\r\n\tat org.apache.spark.api.python.PythonWorkerFactory.create(PythonWorkerFactory.scala:109)\r\n\tat org.apache.spark.SparkEnv.createPythonWorker(SparkEnv.scala:124)\r\n\tat org.apache.spark.api.python.BasePythonRunner.compute(PythonRunner.scala:174)\r\n\tat org.apache.spark.sql.execution.python.BatchEvalPythonExec.evaluate(BatchEvalPythonExec.scala:54)\r\n\tat org.apache.spark.sql.execution.python.EvalPythonExec.$anonfun$doExecute$2(EvalPythonExec.scala:131)\r\n\tat org.apache.spark.rdd.RDD.$anonfun$mapPartitions$2(RDD.scala:855)\r\n\tat org.apache.spark.rdd.RDD.$anonfun$mapPartitions$2$adapted(RDD.scala:855)\r\n\tat org.apache.spark.rdd.MapPartitionsRDD.compute(MapPartitionsRDD.scala:52)\r\n\tat org.apache.spark.rdd.RDD.computeOrReadCheckpoint(RDD.scala:364)\r\n\tat org.apache.spark.rdd.RDD.iterator(RDD.scala:328)\r\n\tat org.apache.spark.rdd.MapPartitionsRDD.compute(MapPartitionsRDD.scala:52)\r\n\tat org.apache.spark.rdd.RDD.computeOrReadCheckpoint(RDD.scala:364)\r\n\tat org.apache.spark.rdd.RDD.iterator(RDD.scala:328)\r\n\tat org.apache.spark.rdd.MapPartitionsRDD.compute(MapPartitionsRDD.scala:52)\r\n\tat org.apache.spark.rdd.RDD.computeOrReadCheckpoint(RDD.scala:364)\r\n\tat org.apache.spark.rdd.RDD.iterator(RDD.scala:328)\r\n\tat org.apache.spark.scheduler.ResultTask.runTask(ResultTask.scala:93)\r\n\tat org.apache.spark.TaskContext.runTaskWithListeners(TaskContext.scala:161)\r\n\tat org.apache.spark.scheduler.Task.run(Task.scala:141)\r\n\tat org.apache.spark.executor.Executor$TaskRunner.$anonfun$run$4(Executor.scala:620)\r\n\tat org.apache.spark.util.SparkErrorUtils.tryWithSafeFinally(SparkErrorUtils.scala:64)\r\n\tat org.apache.spark.util.SparkErrorUtils.tryWithSafeFinally$(SparkErrorUtils.scala:61)\r\n\tat org.apache.spark.util.Utils$.tryWithSafeFinally(Utils.scala:94)\r\n\tat org.apache.spark.executor.Executor$TaskRunner.run(Executor.scala:623)\r\n\tat java.util.concurrent.ThreadPoolExecutor.runWorker(ThreadPoolExecutor.java:1149)\r\n\tat java.util.concurrent.ThreadPoolExecutor$Worker.run(ThreadPoolExecutor.java:624)\r\n\tat java.lang.Thread.run(Thread.java:748)\r\nCaused by: java.net.SocketTimeoutException: Accept timed out\r\n\tat java.net.DualStackPlainSocketImpl.waitForNewConnection(Native Method)\r\n\tat java.net.DualStackPlainSocketImpl.socketAccept(DualStackPlainSocketImpl.java:135)\r\n\tat java.net.AbstractPlainSocketImpl.accept(AbstractPlainSocketImpl.java:409)\r\n\tat java.net.PlainSocketImpl.accept(PlainSocketImpl.java:199)\r\n\tat java.net.ServerSocket.implAccept(ServerSocket.java:545)\r\n\tat java.net.ServerSocket.accept(ServerSocket.java:513)\r\n\tat org.apache.spark.api.python.PythonWorkerFactory.createSimpleWorker(PythonWorkerFactory.scala:190)\r\n\t... 27 more\r\n\nDriver stacktrace:\r\n\tat org.apache.spark.scheduler.DAGScheduler.failJobAndIndependentStages(DAGScheduler.scala:2844)\r\n\tat org.apache.spark.scheduler.DAGScheduler.$anonfun$abortStage$2(DAGScheduler.scala:2780)\r\n\tat org.apache.spark.scheduler.DAGScheduler.$anonfun$abortStage$2$adapted(DAGScheduler.scala:2779)\r\n\tat scala.collection.mutable.ResizableArray.foreach(ResizableArray.scala:62)\r\n\tat scala.collection.mutable.ResizableArray.foreach$(ResizableArray.scala:55)\r\n\tat scala.collection.mutable.ArrayBuffer.foreach(ArrayBuffer.scala:49)\r\n\tat org.apache.spark.scheduler.DAGScheduler.abortStage(DAGScheduler.scala:2779)\r\n\tat org.apache.spark.scheduler.DAGScheduler.$anonfun$handleTaskSetFailed$1(DAGScheduler.scala:1242)\r\n\tat org.apache.spark.scheduler.DAGScheduler.$anonfun$handleTaskSetFailed$1$adapted(DAGScheduler.scala:1242)\r\n\tat scala.Option.foreach(Option.scala:407)\r\n\tat org.apache.spark.scheduler.DAGScheduler.handleTaskSetFailed(DAGScheduler.scala:1242)\r\n\tat org.apache.spark.scheduler.DAGSchedulerEventProcessLoop.doOnReceive(DAGScheduler.scala:3048)\r\n\tat org.apache.spark.scheduler.DAGSchedulerEventProcessLoop.onReceive(DAGScheduler.scala:2982)\r\n\tat org.apache.spark.scheduler.DAGSchedulerEventProcessLoop.onReceive(DAGScheduler.scala:2971)\r\n\tat org.apache.spark.util.EventLoop$$anon$1.run(EventLoop.scala:49)\r\n\tat org.apache.spark.scheduler.DAGScheduler.runJob(DAGScheduler.scala:984)\r\n\tat org.apache.spark.SparkContext.runJob(SparkContext.scala:2398)\r\n\tat org.apache.spark.SparkContext.runJob(SparkContext.scala:2419)\r\n\tat org.apache.spark.SparkContext.runJob(SparkContext.scala:2438)\r\n\tat org.apache.spark.sql.execution.SparkPlan.executeTake(SparkPlan.scala:530)\r\n\tat org.apache.spark.sql.execution.SparkPlan.executeTake(SparkPlan.scala:483)\r\n\tat org.apache.spark.sql.execution.CollectLimitExec.executeCollect(limit.scala:61)\r\n\tat org.apache.spark.sql.Dataset.collectFromPlan(Dataset.scala:4344)\r\n\tat org.apache.spark.sql.Dataset.$anonfun$head$1(Dataset.scala:3326)\r\n\tat org.apache.spark.sql.Dataset.$anonfun$withAction$2(Dataset.scala:4334)\r\n\tat org.apache.spark.sql.execution.QueryExecution$.withInternalError(QueryExecution.scala:546)\r\n\tat org.apache.spark.sql.Dataset.$anonfun$withAction$1(Dataset.scala:4332)\r\n\tat org.apache.spark.sql.execution.SQLExecution$.$anonfun$withNewExecutionId$6(SQLExecution.scala:125)\r\n\tat org.apache.spark.sql.execution.SQLExecution$.withSQLConfPropagated(SQLExecution.scala:201)\r\n\tat org.apache.spark.sql.execution.SQLExecution$.$anonfun$withNewExecutionId$1(SQLExecution.scala:108)\r\n\tat org.apache.spark.sql.SparkSession.withActive(SparkSession.scala:900)\r\n\tat org.apache.spark.sql.execution.SQLExecution$.withNewExecutionId(SQLExecution.scala:66)\r\n\tat org.apache.spark.sql.Dataset.withAction(Dataset.scala:4332)\r\n\tat org.apache.spark.sql.Dataset.head(Dataset.scala:3326)\r\n\tat org.apache.spark.sql.Dataset.take(Dataset.scala:3549)\r\n\tat org.apache.spark.sql.Dataset.getRows(Dataset.scala:280)\r\n\tat org.apache.spark.sql.Dataset.showString(Dataset.scala:315)\r\n\tat sun.reflect.NativeMethodAccessorImpl.invoke0(Native Method)\r\n\tat sun.reflect.NativeMethodAccessorImpl.invoke(NativeMethodAccessorImpl.java:62)\r\n\tat sun.reflect.DelegatingMethodAccessorImpl.invoke(DelegatingMethodAccessorImpl.java:43)\r\n\tat java.lang.reflect.Method.invoke(Method.java:498)\r\n\tat py4j.reflection.MethodInvoker.invoke(MethodInvoker.java:244)\r\n\tat py4j.reflection.ReflectionEngine.invoke(ReflectionEngine.java:374)\r\n\tat py4j.Gateway.invoke(Gateway.java:282)\r\n\tat py4j.commands.AbstractCommand.invokeMethod(AbstractCommand.java:132)\r\n\tat py4j.commands.CallCommand.execute(CallCommand.java:79)\r\n\tat py4j.ClientServerConnection.waitForCommands(ClientServerConnection.java:182)\r\n\tat py4j.ClientServerConnection.run(ClientServerConnection.java:106)\r\n\tat java.lang.Thread.run(Thread.java:748)\r\nCaused by: org.apache.spark.SparkException: Python worker failed to connect back.\r\n\tat org.apache.spark.api.python.PythonWorkerFactory.createSimpleWorker(PythonWorkerFactory.scala:203)\r\n\tat org.apache.spark.api.python.PythonWorkerFactory.create(PythonWorkerFactory.scala:109)\r\n\tat org.apache.spark.SparkEnv.createPythonWorker(SparkEnv.scala:124)\r\n\tat org.apache.spark.api.python.BasePythonRunner.compute(PythonRunner.scala:174)\r\n\tat org.apache.spark.sql.execution.python.BatchEvalPythonExec.evaluate(BatchEvalPythonExec.scala:54)\r\n\tat org.apache.spark.sql.execution.python.EvalPythonExec.$anonfun$doExecute$2(EvalPythonExec.scala:131)\r\n\tat org.apache.spark.rdd.RDD.$anonfun$mapPartitions$2(RDD.scala:855)\r\n\tat org.apache.spark.rdd.RDD.$anonfun$mapPartitions$2$adapted(RDD.scala:855)\r\n\tat org.apache.spark.rdd.MapPartitionsRDD.compute(MapPartitionsRDD.scala:52)\r\n\tat org.apache.spark.rdd.RDD.computeOrReadCheckpoint(RDD.scala:364)\r\n\tat org.apache.spark.rdd.RDD.iterator(RDD.scala:328)\r\n\tat org.apache.spark.rdd.MapPartitionsRDD.compute(MapPartitionsRDD.scala:52)\r\n\tat org.apache.spark.rdd.RDD.computeOrReadCheckpoint(RDD.scala:364)\r\n\tat org.apache.spark.rdd.RDD.iterator(RDD.scala:328)\r\n\tat org.apache.spark.rdd.MapPartitionsRDD.compute(MapPartitionsRDD.scala:52)\r\n\tat org.apache.spark.rdd.RDD.computeOrReadCheckpoint(RDD.scala:364)\r\n\tat org.apache.spark.rdd.RDD.iterator(RDD.scala:328)\r\n\tat org.apache.spark.scheduler.ResultTask.runTask(ResultTask.scala:93)\r\n\tat org.apache.spark.TaskContext.runTaskWithListeners(TaskContext.scala:161)\r\n\tat org.apache.spark.scheduler.Task.run(Task.scala:141)\r\n\tat org.apache.spark.executor.Executor$TaskRunner.$anonfun$run$4(Executor.scala:620)\r\n\tat org.apache.spark.util.SparkErrorUtils.tryWithSafeFinally(SparkErrorUtils.scala:64)\r\n\tat org.apache.spark.util.SparkErrorUtils.tryWithSafeFinally$(SparkErrorUtils.scala:61)\r\n\tat org.apache.spark.util.Utils$.tryWithSafeFinally(Utils.scala:94)\r\n\tat org.apache.spark.executor.Executor$TaskRunner.run(Executor.scala:623)\r\n\tat java.util.concurrent.ThreadPoolExecutor.runWorker(ThreadPoolExecutor.java:1149)\r\n\tat java.util.concurrent.ThreadPoolExecutor$Worker.run(ThreadPoolExecutor.java:624)\r\n\t... 1 more\r\nCaused by: java.net.SocketTimeoutException: Accept timed out\r\n\tat java.net.DualStackPlainSocketImpl.waitForNewConnection(Native Method)\r\n\tat java.net.DualStackPlainSocketImpl.socketAccept(DualStackPlainSocketImpl.java:135)\r\n\tat java.net.AbstractPlainSocketImpl.accept(AbstractPlainSocketImpl.java:409)\r\n\tat java.net.PlainSocketImpl.accept(PlainSocketImpl.java:199)\r\n\tat java.net.ServerSocket.implAccept(ServerSocket.java:545)\r\n\tat java.net.ServerSocket.accept(ServerSocket.java:513)\r\n\tat org.apache.spark.api.python.PythonWorkerFactory.createSimpleWorker(PythonWorkerFactory.scala:190)\r\n\t... 27 more\r\n"
     ]
    }
   ],
   "source": [
    "#All the values have been mapped to integer values\n",
    "df_mapped.show(50)"
   ]
  },
  {
   "cell_type": "markdown",
   "metadata": {
    "id": "eyVXWGr0QY5T"
   },
   "source": [
    "#### Handle age values"
   ]
  },
  {
   "cell_type": "code",
   "execution_count": null,
   "metadata": {
    "id": "BOlefHeQQly3"
   },
   "outputs": [],
   "source": [
    "# cleaning the age column after all the string values have been mapped\n",
    "from pyspark.sql.types import IntegerType\n",
    "\n",
    "# Define a User-Defined Function (UDF) to clean the 'age' column\n",
    "def clean_age(age_str):\n",
    "    try:\n",
    "        # Check if the string is a valid integer and does not contain additional underscores\n",
    "        if age_str is not None and age_str.isdigit() and '_' not in age_str:\n",
    "            age = int(age_str)\n",
    "\n",
    "            # Check for a valid age range (e.g., between 0 and 100)\n",
    "            if 0 <= age <= 100:\n",
    "                return age\n",
    "            else:\n",
    "                return None\n",
    "        else:\n",
    "            return None\n",
    "    except ValueError:\n",
    "        # Handle non-convertible values\n",
    "        return None\n",
    "\n"
   ]
  },
  {
   "cell_type": "code",
   "execution_count": null,
   "metadata": {
    "id": "01B03Nh7QoVr"
   },
   "outputs": [],
   "source": [
    "# Register the UDF\n",
    "clean_age_udf = F.udf(clean_age, IntegerType())\n",
    "\n",
    "# Apply the UDF to the 'age' column\n",
    "df_cleaned_age = df_mapped.withColumn('Age', clean_age_udf(F.col('Age')))\n",
    "\n",
    "# Show the cleaned DataFrame\n",
    "df_cleaned_age.show(50)\n"
   ]
  },
  {
   "cell_type": "code",
   "execution_count": null,
   "metadata": {
    "id": "dShk-5KjRQnE"
   },
   "outputs": [],
   "source": [
    "df_cleaned_age.show()"
   ]
  },
  {
   "cell_type": "markdown",
   "metadata": {
    "id": "guuXzWB1SWvf"
   },
   "source": [
    "#### Replace age missing values"
   ]
  },
  {
   "cell_type": "code",
   "execution_count": null,
   "metadata": {
    "id": "KePO7c8RSiH2"
   },
   "outputs": [],
   "source": [
    "from pyspark.sql import SparkSession\n",
    "from pyspark.sql.functions import col\n",
    "\n",
    "def replace_null_with_mode(df, column_name):\n",
    "    # Find the mode of the specified column\n",
    "    mode_value = df.groupBy(column_name).count().orderBy(col(\"count\").desc()).limit(1).select(column_name).collect()[0][0]\n",
    "\n",
    "    # Replace null values with the mode for the specified column\n",
    "    df = df.na.fill({column_name: mode_value})\n",
    "\n",
    "    return df\n",
    "\n",
    "dt_final = df_cleaned_age\n",
    "\n",
    "df_final = replace_null_with_mode(df_final, 'Age')\n",
    "df_final = replace_null_with_mode(df_final, 'Occupation')\n",
    "df_final = replace_null_with_mode(df_final, 'Annual_Income')\n",
    "df_final.show()\n",
    "\n",
    "\n",
    "\n",
    "df_final = replace_null_with_mode(df_final , 'Occupation')\n",
    "df_final = replace_null_with_mode(df_final , 'Annual_Income')\n",
    "df_final = replace_null_with_mode(df_final , 'Monthly_Inhand_Salary')\n",
    "df_final = replace_null_with_mode(df_final , 'Num_of_Loan')\n",
    "df_final = replace_null_with_mode(df_final , 'Changed_Credit_Limit')\n",
    "df_final = replace_null_with_mode(df_final , 'Num_Credit_Inquiries')\n",
    "df_final = replace_null_with_mode(df_final , 'Credit_Mix')\n",
    "df_final = replace_null_with_mode(df_final , 'Outstanding_Debt')\n",
    "df_final.show()"
   ]
  },
  {
   "cell_type": "code",
   "execution_count": null,
   "metadata": {
    "id": "pUkHe3v6iSAO"
   },
   "outputs": [],
   "source": [
    "from pyspark.sql import SparkSession\n",
    "from pyspark.sql.functions import mean, col\n",
    "\n",
    "def replace_null_with_mean(df, column_name):\n",
    "    # Calculate the mean of the specified column\n",
    "    mean_value = df.select(mean(col(column_name))).collect()[0][0]\n",
    "\n",
    "    # Replace null values with the mean\n",
    "    df = df.na.fill({column_name: mean_value})\n",
    "\n",
    "    return df\n",
    "\n",
    "#replace all with the mean\n",
    "df_final = replace_null_with_mean(df_final, 'Amount_invested_monthly')\n",
    "df_final = replace_null_with_mean(df_final, 'Payment_Behaviour')\n",
    "df_final = replace_null_with_mean(df_final, 'Monthly_Balance')\n",
    "df_final = replace_null_with_mean(df_final, 'Num_of_Delayed_Payment')\n",
    "\n",
    "df_final.show()"
   ]
  },
  {
   "cell_type": "markdown",
   "metadata": {
    "id": "OLJ9wDEgS36l"
   },
   "source": [
    "#### Replace occupation missing values"
   ]
  },
  {
   "cell_type": "code",
   "execution_count": null,
   "metadata": {
    "id": "UOTp9pDVS_fV"
   },
   "outputs": [],
   "source": [
    "df_imputed = impute_missing_with_mode(df_imputed, 'Occupation', 'Customer_ID')\n",
    "df_imputed.show()"
   ]
  },
  {
   "cell_type": "markdown",
   "metadata": {
    "id": "kr1f_y8kTKjI"
   },
   "source": [
    "#### Replace annual income missing value"
   ]
  },
  {
   "cell_type": "code",
   "execution_count": null,
   "metadata": {
    "id": "UqZlQcgaTQXP"
   },
   "outputs": [],
   "source": [
    "df_imputed = impute_missing_with_mode(df_imputed, 'Annual_Income', 'Customer_ID')\n",
    "df_imputed.show()"
   ]
  },
  {
   "cell_type": "markdown",
   "metadata": {
    "id": "M3xLJMvOTWmO"
   },
   "source": [
    "#### Replace monthly inhand salary missing value"
   ]
  },
  {
   "cell_type": "code",
   "execution_count": null,
   "metadata": {
    "id": "6k16iRvaTck7"
   },
   "outputs": [],
   "source": [
    "df_imputed = impute_missing_with_mode(df_imputed, 'Monthly_Inhand_Salary', 'Customer_ID')\n",
    "df_imputed.show()"
   ]
  },
  {
   "cell_type": "markdown",
   "metadata": {
    "id": "DJ1Cuo7eTeb9"
   },
   "source": [
    "#### Replace num of loan missing values"
   ]
  },
  {
   "cell_type": "code",
   "execution_count": null,
   "metadata": {
    "id": "VMOyQUbVThur"
   },
   "outputs": [],
   "source": [
    "df_imputed = impute_missing_with_mode(df_imputed, 'Num_of_Loan', 'Customer_ID')\n",
    "df_imputed.show()"
   ]
  },
  {
   "cell_type": "markdown",
   "metadata": {
    "id": "f_s2hKstTmKP"
   },
   "source": [
    "#### Replace Change credit limit missing values"
   ]
  },
  {
   "cell_type": "code",
   "execution_count": null,
   "metadata": {
    "id": "xP_AFPbhT9wg"
   },
   "outputs": [],
   "source": [
    "df_imputed = impute_missing_with_mode(df_imputed, 'Changed_Credit_Limit', 'Customer_ID')\n",
    "df_imputed.show()"
   ]
  },
  {
   "cell_type": "markdown",
   "metadata": {
    "id": "hxK3ojAoTv4K"
   },
   "source": [
    "#### Num credit inquiries missing values"
   ]
  },
  {
   "cell_type": "code",
   "execution_count": null,
   "metadata": {
    "id": "8fOdmbTDUBFm"
   },
   "outputs": [],
   "source": [
    "df_imputed = impute_missing_with_mode(df_imputed, 'Num_Credit_Inquiries', 'Customer_ID')\n",
    "df_imputed.show()\n"
   ]
  },
  {
   "cell_type": "markdown",
   "metadata": {
    "id": "dycb6nhzT1BS"
   },
   "source": [
    "#### Replace credit mix missing values"
   ]
  },
  {
   "cell_type": "code",
   "execution_count": null,
   "metadata": {
    "id": "og8n3gjYUDH6"
   },
   "outputs": [],
   "source": [
    "df_imputed = impute_missing_with_mode(df_imputed, 'Credit_Mix', 'Customer_ID')\n",
    "df_imputed.show()"
   ]
  },
  {
   "cell_type": "markdown",
   "metadata": {
    "id": "c8GfYe7bT4ZW"
   },
   "source": [
    "#### Replace outstanding debt missing values"
   ]
  },
  {
   "cell_type": "code",
   "execution_count": null,
   "metadata": {
    "id": "uRLLD26XUGTD"
   },
   "outputs": [],
   "source": [
    "# df_imputed = impute_missing_with_mode(df_imputed, 'Outstanding_Debt', 'Customer_ID')\n",
    "\n",
    "# df_imputed.show()"
   ]
  },
  {
   "cell_type": "markdown",
   "metadata": {
    "id": "Bwko7N8CU_pi"
   },
   "source": [
    "#### Check missing values"
   ]
  },
  {
   "cell_type": "code",
   "execution_count": null,
   "metadata": {
    "id": "5exur6fOaOaK"
   },
   "outputs": [],
   "source": [
    "df_imputed.select([count(when(col(c).isNull(), c)).alias(c) for c in df_imputed.columns]).show()"
   ]
  },
  {
   "cell_type": "code",
   "execution_count": null,
   "metadata": {
    "id": "XE1G3rKFfpK0"
   },
   "outputs": [],
   "source": []
  },
  {
   "cell_type": "markdown",
   "metadata": {
    "id": "ZuOM6SrdPa9D"
   },
   "source": [
    "#### StringIndexer method"
   ]
  },
  {
   "cell_type": "code",
   "execution_count": null,
   "metadata": {
    "id": "mwYSbKgRz86U"
   },
   "outputs": [],
   "source": [
    "# credit_data holds the transformed dataframe with all the indexed value\n",
    "credit_data = df_cleaned"
   ]
  },
  {
   "cell_type": "code",
   "execution_count": null,
   "metadata": {
    "id": "MqJ4ERYLpiUS"
   },
   "outputs": [],
   "source": [
    "# String indexer for all cat columns\n",
    "for name in categorical:\n",
    "    cat_indexer = StringIndexer(inputCol=name, outputCol= name + '_index')\n",
    "    #cat_indexer = StringIndexer(inputCol='term', outputCol='term_index')\n",
    "    cat_indexer_model = cat_indexer.fit(credit_data)\n",
    "    credit_data = cat_indexer_model.transform(credit_data)"
   ]
  },
  {
   "cell_type": "code",
   "execution_count": null,
   "metadata": {
    "id": "Ruu60zmgzTPf"
   },
   "outputs": [],
   "source": [
    "print(f'All Columns:{credit_data.columns}')\n",
    "print(f\"Dropping {len(categorical)} old non-index categorical columns....\")\n",
    "credit_data = credit_data.drop(*categorical)\n",
    "print(f\"\\nUpdated Columns: {credit_data.columns}\")"
   ]
  },
  {
   "cell_type": "code",
   "execution_count": null,
   "metadata": {
    "id": "8ezPv6o4fmQR"
   },
   "outputs": [],
   "source": [
    "credit_data.show()"
   ]
  },
  {
   "cell_type": "markdown",
   "metadata": {
    "id": "pMFo_E7iu8t3"
   },
   "source": [
    "### Convert Numerical columns to integer"
   ]
  },
  {
   "cell_type": "code",
   "execution_count": null,
   "metadata": {
    "id": "0wCmBywWQ4YB"
   },
   "outputs": [],
   "source": []
  },
  {
   "cell_type": "markdown",
   "metadata": {
    "id": "pkgntbvNeFm0"
   },
   "source": [
    "#### Clean all numerical columns\n",
    "\n",
    "\n",
    "1.   Clean values appended with \"_\"\n",
    "2.   Handle outliers value, eg: Age = 500\n",
    "\n"
   ]
  },
  {
   "cell_type": "code",
   "execution_count": null,
   "metadata": {
    "id": "ZL971bqueFM7"
   },
   "outputs": [],
   "source": [
    "# from pyspark.sql.types import IntegerType\n",
    "\n",
    "# def convert_to_int(value):\n",
    "#     if int(value) == int:\n",
    "#       return int(value)\n",
    "#     elif float(value) == float:\n",
    "#       return float(value)\n",
    "#     else:\n",
    "#       return None\n",
    "\n",
    "# for name in numerical:\n",
    "#       credit_data = credit_data.withColumn(name, F.udf(convert_to_int, IntegerType())(credit_data[name]))\n",
    "\n",
    "# credit_data.show()"
   ]
  },
  {
   "cell_type": "markdown",
   "metadata": {
    "id": "IQ_YAyAYeYgX"
   },
   "source": [
    "#### Cast the numerical columns"
   ]
  },
  {
   "cell_type": "code",
   "execution_count": null,
   "metadata": {
    "id": "cRAtDB2ZsxKa"
   },
   "outputs": [],
   "source": [
    "print(\"Before update:\")\n",
    "print(credit_data.printSchema())\n",
    "\n",
    "for name in numerical:\n",
    "    credit_data = credit_data.withColumn(name, credit_data[name].cast('int'))\n",
    "\n",
    "print(\"After update:\")\n",
    "print(credit_data.printSchema())\n"
   ]
  },
  {
   "cell_type": "code",
   "execution_count": null,
   "metadata": {
    "id": "cuTGzrjOs7Lq"
   },
   "outputs": [],
   "source": [
    "label_stringIdx = StringIndexer(inputCol = 'Credit_Score_index', outputCol = 'label')"
   ]
  },
  {
   "cell_type": "code",
   "execution_count": null,
   "metadata": {
    "id": "GXY-TgbI6Jlp"
   },
   "outputs": [],
   "source": [
    "credit_data.show()"
   ]
  },
  {
   "cell_type": "code",
   "execution_count": null,
   "metadata": {
    "id": "dm3BbcJAtPD0"
   },
   "outputs": [],
   "source": [
    "print(credit_data.toPandas().isna().sum())\n",
    "\n",
    "credit_data = credit_data.dropna(how = \"any\")\n",
    "print(credit_data.toPandas().isna().sum())\n",
    "\n",
    "\n",
    "credit_data.show()"
   ]
  },
  {
   "cell_type": "markdown",
   "metadata": {
    "id": "7ihgytVMfIjt"
   },
   "source": [
    "### Save df for fine-tuning model"
   ]
  },
  {
   "cell_type": "code",
   "execution_count": null,
   "metadata": {
    "id": "NcWoopIGfNL4"
   },
   "outputs": [],
   "source": [
    "fine_tuning_df = credit_data\n",
    "\n",
    "fine_tuning_df.printSchema()"
   ]
  },
  {
   "cell_type": "markdown",
   "metadata": {
    "id": "3f0OzqBcvbOI"
   },
   "source": [
    "### Vector Assembler for all features"
   ]
  },
  {
   "cell_type": "code",
   "execution_count": null,
   "metadata": {
    "id": "zlJgRuguvePf"
   },
   "outputs": [],
   "source": [
    "assemblerInputs = [c + \"_index\" for c in categorical] + numerical\n",
    "assembler = VectorAssembler(inputCols=assemblerInputs, outputCol=\"featuresNotScaled\")"
   ]
  },
  {
   "cell_type": "markdown",
   "metadata": {
    "id": "ZZN1n_J6vng5"
   },
   "source": [
    "### Scale the vector column"
   ]
  },
  {
   "cell_type": "code",
   "execution_count": null,
   "metadata": {
    "id": "FVh2E-AivqCb"
   },
   "outputs": [],
   "source": [
    "stdscaler = StandardScaler(inputCol=\"featuresNotScaled\", outputCol=\"features\", withStd=True, withMean=False)"
   ]
  },
  {
   "cell_type": "markdown",
   "metadata": {
    "id": "XN3GkjzJwM1n"
   },
   "source": [
    "### Apply Transformers/Estimators to Pipeline"
   ]
  },
  {
   "cell_type": "code",
   "execution_count": null,
   "metadata": {
    "id": "P_EEcobkw_C_"
   },
   "outputs": [],
   "source": [
    "stages = []\n",
    "\n",
    "stages += [label_stringIdx]\n",
    "stages += [assembler]\n",
    "stages += [stdscaler]\n",
    "print(stages)"
   ]
  },
  {
   "cell_type": "code",
   "execution_count": null,
   "metadata": {
    "id": "b43Kt5voyVqe"
   },
   "outputs": [],
   "source": [
    "credit_data.show()"
   ]
  },
  {
   "cell_type": "code",
   "execution_count": null,
   "metadata": {
    "id": "o4XYn8_KxAxs"
   },
   "outputs": [],
   "source": [
    "pipeline = Pipeline(stages = stages)\n",
    "pipeline_model = pipeline.fit(credit_data)\n",
    "credit_data = pipeline_model.transform(credit_data)"
   ]
  },
  {
   "cell_type": "code",
   "execution_count": null,
   "metadata": {
    "id": "1389xSYyxCBk"
   },
   "outputs": [],
   "source": [
    "selected = ['label', 'features']\n",
    "credit_data = credit_data.select(selected)\n",
    "credit_data.printSchema()"
   ]
  },
  {
   "cell_type": "markdown",
   "metadata": {
    "id": "LyuJcWtE8swG"
   },
   "source": [
    "\n",
    "### Stratified Sampling based on 'LoadNumType'\n",
    "Get samples from each load type\n",
    "\n",
    "- Training: 4/5\n",
    "- Testing: 1/5"
   ]
  },
  {
   "cell_type": "code",
   "execution_count": null,
   "metadata": {
    "id": "qyzqOp7S8swG",
    "scrolled": true
   },
   "outputs": [],
   "source": [
    "#See initial distribution of the 3 credit score\n",
    "credit_data.groupBy('label').count().show()"
   ]
  },
  {
   "cell_type": "code",
   "execution_count": null,
   "metadata": {
    "id": "tiJaRLt88swH"
   },
   "outputs": [],
   "source": [
    "#Take 2/3 of the data from each load type into training set\n",
    "train_data = credit_data.sampleBy(\"label\", fractions = {0.0: 4/5, 1.0: 4/5, 2.0: 4/5}, seed =  42)\n",
    "\n",
    "#Subtracting the train_data from the original data to get the test set (remaining samples)\n",
    "test_data = credit_data.subtract(train_data)"
   ]
  },
  {
   "cell_type": "code",
   "execution_count": null,
   "metadata": {
    "id": "bm4rtJvU8swO"
   },
   "outputs": [],
   "source": [
    "#See the no. of samples of each load type in training set\n",
    "train_data.groupBy('label').count().show()"
   ]
  },
  {
   "cell_type": "code",
   "execution_count": null,
   "metadata": {
    "id": "qIqIfHw28swP"
   },
   "outputs": [],
   "source": [
    "#See the no. of samples of each load type in testing set\n",
    "test_data.groupBy('label').count().show()"
   ]
  },
  {
   "cell_type": "code",
   "execution_count": null,
   "metadata": {
    "id": "hLn-gOdT8swP"
   },
   "outputs": [],
   "source": [
    "# See the distribution of data in original set\n",
    "print(\"Original dataset distribution:\")\n",
    "credit_data.select('label').toPandas().hist()\n",
    "plt.show()\n",
    "\n",
    "# See the distribution of data in training set\n",
    "print(\"Training dataset distribution:\")\n",
    "train_data.select('label').toPandas().hist()\n",
    "plt.show()\n",
    "\n",
    "# See the distribution of data in testing set\n",
    "print(\"Testing dataset distribution:\")\n",
    "test_data.select('label').toPandas().hist()\n",
    "plt.show()\n"
   ]
  },
  {
   "cell_type": "markdown",
   "metadata": {
    "id": "yE3YYRDI8swQ"
   },
   "source": [
    "-------------------------------------------------------------------------------------------------------------------------------"
   ]
  },
  {
   "cell_type": "markdown",
   "metadata": {
    "id": "363A5jBE8swG"
   },
   "source": [
    "-------------------------------------------------------------------------------------------------------------------------------"
   ]
  },
  {
   "cell_type": "markdown",
   "metadata": {
    "id": "7XRQe6OUlNMP"
   },
   "source": [
    "### #View Invalid data\n"
   ]
  },
  {
   "cell_type": "code",
   "execution_count": null,
   "metadata": {
    "id": "HKXTu21slmcK"
   },
   "outputs": [],
   "source": [
    "# invalidPB_df = df.filter(F.col(\"Occupation\") == \"_______\")\n",
    "# invalidPB_df.show()\n",
    "# invalidPB_df.count()\n",
    "\n"
   ]
  },
  {
   "cell_type": "markdown",
   "metadata": {
    "id": "v8t3dyc6Srum"
   },
   "source": [
    "### #Binning\n"
   ]
  },
  {
   "cell_type": "code",
   "execution_count": null,
   "metadata": {
    "id": "WevAFgWLk_KZ"
   },
   "outputs": [],
   "source": [
    "# # Convert \"age_string\" to integer\n",
    "# # df_with_numeric_age = df.withColumn(\"age_numeric\", cast(col(\"age_string\"), IntegerType()))\n",
    "# from pyspark.sql.types import *\n",
    "# from pyspark.sql.functions import col\n",
    "\n",
    "\n",
    "# target_types = [IntegerType(), DoubleType(), DoubleType()]  # Example types\n",
    "# new_df = df.select([(F.col(c).cast(target_types[i]) if F.col(c).dataType in (StringType(), IntegerType()) else col(c)) for i, c in enumerate(df.columns)])\n",
    "\n",
    "# # Show results\n",
    "# new_df.describe()"
   ]
  },
  {
   "cell_type": "markdown",
   "metadata": {
    "id": "m-3HOPRur7LF"
   },
   "source": [
    "### #String indexer (Old Code)"
   ]
  },
  {
   "cell_type": "code",
   "execution_count": null,
   "metadata": {
    "id": "_Wno1TQ82k1p"
   },
   "outputs": [],
   "source": [
    "# #Convert string type columns into numeric index\n",
    "\n",
    "# from pyspark.ml.feature import StringIndexer\n",
    "# from pyspark.ml.feature import VectorAssembler\n",
    "# from pyspark.sql.functions import col\n",
    "\n",
    "# # \"Type_of_Loan\" gives me issues suspect cause of missing values\n",
    "\n",
    "# print(df.describe())\n",
    "\n",
    "# dfTransformed = df_cleaned\n",
    "\n",
    "# all_cols = df.schema.names\n",
    "# numeric_cols = [col for col in all_cols if df.schema[col].dataType in (\"int\", \"double\")]\n",
    "# non_numeric_cols = [col for col in all_cols if col not in numeric_cols]\n",
    "\n",
    "\n",
    "# # non_numeric_cols = ['Occupation', 'Month', 'Credit_History_Age', 'Payment_Behaviour', 'Credit_Score', 'Credit_Mix', 'Payment_of_Min_Amount', 'Age']\n",
    "\n",
    "# df_cleaned\n",
    "\n",
    "# print(numeric_cols)\n",
    "# print(non_numeric_cols)\n",
    "\n",
    "\n",
    "\n",
    "# numColumnAppended = []\n",
    "# for item in non_numeric_cols:\n",
    "#   numColumnAppended.append(item + \"_NUM\")\n",
    "\n",
    "# print(numColumnAppended)\n",
    "\n",
    "# # #Creates new columns (numeric)\n",
    "# stringIndex = StringIndexer(inputCols = non_numeric_cols,\n",
    "#                             outputCols = numColumnAppended)\n",
    "\n",
    "# # #Add in the new (numeric) columns\n",
    "# stringIndex_model = stringIndex.fit(dfTransformed)\n",
    "\n",
    "# dfTransformed = stringIndex_model.transform(dfTransformed)\n",
    "\n",
    "# dfTransformed = dfTransformed.drop(*non_numeric_cols)\n",
    "\n",
    "# dfTransformed.show()"
   ]
  },
  {
   "cell_type": "markdown",
   "metadata": {
    "id": "ukQVybxv8swF"
   },
   "source": [
    "### Vector Assembler (Old code)\n",
    "Concatenates all the features into a single vector which can be passed to the estimator/ML algo\n",
    "- Features are merged into 1 column to make a vector in each row: under 'features' column\n"
   ]
  },
  {
   "cell_type": "code",
   "execution_count": null,
   "metadata": {
    "id": "ivgBG8fT8swG"
   },
   "outputs": [],
   "source": [
    "# #All features except target: 'LoadTypeNum'\n",
    "# vector_assembler = VectorAssembler(inputCols = dfTransformed.columns[0:-1],\n",
    "#                                    outputCol = 'features')\n",
    "\n",
    "# vector_df = vector_assembler.transform(dfTransformed).select('features', 'Credit_Score_NUM')\n",
    "\n",
    "# #truncate = False to see the whole data (no ...)\n",
    "# vector_df.show(5, truncate = False)"
   ]
  },
  {
   "cell_type": "markdown",
   "metadata": {
    "id": "CV4pjm2nCNlK"
   },
   "source": [
    "##Machine learning algorithms\n",
    "\n",
    "1. Decision tree\n",
    "2. Logistic regression\n",
    "3. Random forest"
   ]
  },
  {
   "cell_type": "code",
   "execution_count": null,
   "metadata": {
    "id": "Zh0YKj8Bi5XB"
   },
   "outputs": [],
   "source": [
    "#Multiclass Classification - accuracy, precision, recall, F1\n",
    "from pyspark.ml.evaluation import MulticlassClassificationEvaluator\n",
    "\n",
    "accuracy_eval = MulticlassClassificationEvaluator(labelCol = 'label',\n",
    "                                                  metricName = 'accuracy')\n",
    "\n",
    "precision_eval = MulticlassClassificationEvaluator(labelCol = 'label',\n",
    "                                                   metricName = 'precisionByLabel')\n",
    "\n",
    "recall_eval = MulticlassClassificationEvaluator(labelCol = 'label',\n",
    "                                                metricName = 'recallByLabel')\n",
    "\n",
    "f1_eval = MulticlassClassificationEvaluator(labelCol = 'label',\n",
    "                                            metricName = 'f1')\n",
    "\n",
    "\n",
    "#Binary Classification - AUC\n",
    "from pyspark.ml.evaluation import BinaryClassificationEvaluator\n",
    "\n",
    "evaluator = BinaryClassificationEvaluator(labelCol = 'label',\n",
    "                                          rawPredictionCol = 'prediction',\n",
    "                                          metricName = 'areaUnderROC')\n",
    "\n",
    "#Function to print all the metrics based on each model's predictions\n",
    "def print_metrics(predictions):\n",
    "\n",
    "    print(\"Metrics:\")\n",
    "\n",
    "    accuracy = accuracy_eval.evaluate(predictions)\n",
    "    print(f'Accuracy: {(accuracy * 100):.3f}')\n",
    "    print(f'Test Error: {((1.0 - accuracy) * 100):.3f}')\n",
    "\n",
    "    precision = precision_eval.evaluate(predictions)\n",
    "    print(f'Precision: {precision:.3f}')\n",
    "\n",
    "    recall = recall_eval.evaluate(predictions)\n",
    "    print(f'Recall: {recall:.3f}')\n",
    "\n",
    "    f1 = f1_eval.evaluate(predictions)\n",
    "    print(f'F1: {f1:.3f}')\n",
    "\n",
    "    auc = evaluator.evaluate(predictions)\n",
    "    print(f'Test Area Under ROC: {auc:.3f}')"
   ]
  },
  {
   "cell_type": "markdown",
   "metadata": {
    "id": "i4kR03n1BchP"
   },
   "source": [
    "##Train models"
   ]
  },
  {
   "cell_type": "markdown",
   "metadata": {
    "id": "OULG_BEz8swT"
   },
   "source": [
    "### Classification model - Decision Tree\n",
    "- Instantiate a DecisionTreeClassifier model object from SparkMLlib\n",
    "- Train the model using the training dataset\n",
    "- Evaluate the model using the testing dataset"
   ]
  },
  {
   "cell_type": "code",
   "execution_count": null,
   "metadata": {
    "id": "1m3tNOci8swT"
   },
   "outputs": [],
   "source": [
    "from pyspark.ml.classification import DecisionTreeClassifier\n",
    "\n",
    "#labelCol ('LoadTypeNum') || featuresCol ('features')\n",
    "dt = DecisionTreeClassifier(labelCol = 'label',\n",
    "                            featuresCol = 'features')\n",
    "\n",
    "#Train the DT model\n",
    "print(train_data.columns)\n",
    "\n",
    "\n",
    "fittedDT = dt.fit(train_data)\n",
    "\n",
    "#Apply the model to the test dataset & see the predictions\n",
    "#Actual: LoadTypeNum || Predicted: predictions\n",
    "predictionsDT = fittedDT.transform(test_data)\n",
    "print_metrics(predictionsDT)"
   ]
  },
  {
   "cell_type": "markdown",
   "metadata": {
    "id": "i0_fIXlJ8swT"
   },
   "source": [
    "-------------------------------------------------------------------------------------------------------------------------------"
   ]
  },
  {
   "cell_type": "markdown",
   "metadata": {
    "id": "fnHLO1228swW"
   },
   "source": [
    "### Classification model - Logistic Regression\n",
    "- Instantiate a LogisticRegression model object from SparkMLlib\n",
    "- Train the model using the training dataset\n",
    "- Evaluate the model using the testing dataset"
   ]
  },
  {
   "cell_type": "code",
   "execution_count": null,
   "metadata": {
    "id": "MzRU-w-J8swW"
   },
   "outputs": [],
   "source": [
    "from pyspark.ml.classification import LogisticRegression\n",
    "\n",
    "#labelCol ('LoadTypeNum') || featuresCol ('features')\n",
    "lr = LogisticRegression(labelCol = 'label',\n",
    "                        featuresCol = 'features')\n",
    "\n",
    "#Train the DT model\n",
    "fittedLR = lr.fit(train_data)\n",
    "\n",
    "#Apply the model to the test dataset & see the predictions\n",
    "#Actual: LoadTypeNum || Predicted: predictions\n",
    "predictionsLR = fittedLR.transform(test_data)\n",
    "print_metrics(predictionsLR)"
   ]
  },
  {
   "cell_type": "markdown",
   "metadata": {
    "id": "IqloeGnV8swZ"
   },
   "source": [
    "### Classification model - Random Forest\n",
    "- Instantiate a RandomForestClassifier model object from SparkMLlib\n",
    "- Train the model using the training dataset\n",
    "- Evaluate the model using the testing dataset"
   ]
  },
  {
   "cell_type": "code",
   "execution_count": null,
   "metadata": {
    "id": "fJ78HNWd8swZ"
   },
   "outputs": [],
   "source": [
    "from pyspark.ml.classification import RandomForestClassifier\n",
    "\n",
    "#labelCol ('LoadTypeNum') || featuresCol ('features')\n",
    "rf = RandomForestClassifier(labelCol = 'label',\n",
    "                            featuresCol = 'features')\n",
    "\n",
    "#Train the DT model\n",
    "fittedRF = rf.fit(train_data)\n",
    "\n",
    "#Apply the model to the test dataset & see the predictions\n",
    "#Actual: LoadTypeNum || Predicted: predictions\n",
    "predictionsRF = fittedRF.transform(test_data)\n",
    "print_metrics(predictionsRF)"
   ]
  },
  {
   "cell_type": "markdown",
   "metadata": {
    "id": "y4bSbJHoBcju"
   },
   "source": [
    "##Fine-tune the models"
   ]
  },
  {
   "cell_type": "markdown",
   "metadata": {
    "id": "EDQLbiam8swR"
   },
   "source": [
    "### Fine-tuning helper functions\n",
    "- Define a user-defined transformer function to add a new feature (CO2_Emit)\n",
    "- Define a fine-tuning function that can:\n",
    "    - Select the best hyperparameters for a model from a parameter grid\n",
    "    - Tune the model with/without the new feature(CO2_Emit) based on parameter specified\n",
    "    - Evaluate the performance of the tuned model"
   ]
  },
  {
   "cell_type": "code",
   "execution_count": null,
   "metadata": {
    "id": "zv2Hrn258swS"
   },
   "outputs": [],
   "source": [
    "from pyspark.ml.tuning import ParamGridBuilder\n",
    "from pyspark.sql.functions import udf\n",
    "from pyspark.ml.tuning import TrainValidationSplit\n",
    "\n",
    "# Defining a helper function to check deb to income ratio, in general the lower the ratio the better\n",
    "def debt_to_income_ratio(debt, income):\n",
    "    return debt / income if income > 0 else 0.0\n",
    "\n",
    "\n",
    "# Defining a user-defined transform function to add a new feature to the existing dataframe\n",
    "def DTI_AttributeAdder(df):\n",
    "      # Register a UDF to be executed on dataframe\n",
    "      DTI_Emit = udf(lambda x1, x2: debt_to_income_ratio(x1, x2), T.DoubleType())\n",
    "      spark.udf.register(\"DTI_Emit\", DTI_Emit)\n",
    "      return df.withColumn('DTI_Emit', DTI_Emit('Outstanding_Debt', 'Annual_Income'))\n",
    "\n",
    "def finetuning_improved(model, paramGrid, evaluator, train_data, test_data):\n",
    "      # Instantiate TrainValidationSplit to apply cross-validation during fine-tuning\n",
    "      print(\"Starting trainValidation Split\")\n",
    "      tvs = TrainValidationSplit(estimator = model,\n",
    "                               estimatorParamMaps = paramGrid,\n",
    "                               evaluator = evaluator,\n",
    "                               parallelism = 1,\n",
    "                               seed = 42)\n",
    "\n",
    "      print(\"Fitting trainValidation Split with train data\")\n",
    "\n",
    "      # Train the model using the training set find the best parameters for the model from the parameter grid\n",
    "      tvsModel = tvs.fit(train_data)\n",
    "      best_model = tvsModel.bestModel\n",
    "\n",
    "      print(\"Fitting trainValidation Split with test data\")\n",
    "      # Display tuned model's performance\n",
    "      tuned_predictions = best_model.transform(test_data)\n",
    "\n",
    "      print(f\"Tuned predictions for {model}:\")\n",
    "      print()\n",
    "      print_metrics(tuned_predictions)"
   ]
  },
  {
   "cell_type": "markdown",
   "metadata": {
    "id": "R0gJly_pmMYN"
   },
   "source": [
    "### No new attribute added for fine tuning"
   ]
  },
  {
   "cell_type": "code",
   "execution_count": null,
   "metadata": {
    "id": "OOh4NqHnmSar"
   },
   "outputs": [],
   "source": [
    "noAttributeTrainData = train_data\n",
    "noAttributeTestData = test_data"
   ]
  },
  {
   "cell_type": "markdown",
   "metadata": {
    "id": "3_S_C6okmIAD"
   },
   "source": [
    "### New attribute test and train dataset"
   ]
  },
  {
   "cell_type": "code",
   "execution_count": null,
   "metadata": {
    "id": "1aS2Ss3lmBOT"
   },
   "outputs": [],
   "source": [
    "df_cleaned = fine_tuning_df\n",
    "df_cleaned = DTI_AttributeAdder(df_cleaned)\n",
    "\n",
    "newAttribute_credit_data = df_cleaned\n",
    "\n",
    "newAttribute_label_stringIdx = StringIndexer(inputCol = 'Credit_Score_index', outputCol = 'label')\n",
    "\n",
    "newAttribute_assemblerInputs = [c + \"_index\" for c in categorical] + numerical\n",
    "newAttribute_assembler = VectorAssembler(inputCols=newAttribute_assemblerInputs, outputCol=\"featuresNotScaled\")\n",
    "\n",
    "newAttribute_stdscaler = StandardScaler(inputCol=\"featuresNotScaled\", outputCol=\"features\", withStd=True, withMean=False)\n",
    "\n",
    "newAttribute_stages = []\n",
    "newAttribute_stages += [newAttribute_label_stringIdx]\n",
    "newAttribute_stages += [newAttribute_assembler]\n",
    "newAttribute_stages += [newAttribute_stdscaler]\n",
    "\n",
    "newAttribute_pipeline = Pipeline(stages = newAttribute_stages)\n",
    "newAttribute_pipeline_model = pipeline.fit(newAttribute_credit_data)\n",
    "newAttribute_credit_data = pipeline_model.transform(newAttribute_credit_data)\n",
    "\n",
    "withAttributeTrain_data = credit_data.sampleBy(\"label\", fractions = {0.0: 4/5, 1.0: 4/5, 2.0: 4/5}, seed =  42)\n",
    "withAttributeTest_data = credit_data.subtract(withAttributeTrain_data)\n",
    "\n"
   ]
  },
  {
   "cell_type": "code",
   "execution_count": null,
   "metadata": {
    "id": "Wndp3qIiqNU0"
   },
   "outputs": [],
   "source": [
    "withAttributeTrain_data.show()"
   ]
  },
  {
   "cell_type": "markdown",
   "metadata": {
    "id": "LszNxqPu8swU"
   },
   "source": [
    "### Fine-tuning Decision Tree\n",
    "- Define parameter grid\n",
    "- Apply finetuning function to tune the model"
   ]
  },
  {
   "cell_type": "code",
   "execution_count": null,
   "metadata": {
    "id": "9rbbSOZ58swU"
   },
   "outputs": [],
   "source": [
    "# Define parameter grid\n",
    "paramGrid = ParamGridBuilder()\\\n",
    "            .addGrid(dt.impurity, ['gini', 'entropy'])\\\n",
    "            .addGrid(dt.maxBins, [10, 20])\\\n",
    "            .addGrid(dt.maxDepth, [2, 5])\\\n",
    "            .build()"
   ]
  },
  {
   "cell_type": "code",
   "execution_count": null,
   "metadata": {
    "id": "QM8vS8ZK8swV"
   },
   "outputs": [],
   "source": [
    "\n",
    "# Fine-tuning the model with new attribute CO2_Emit\n",
    "print(\"Model performance with new attribute added: \")\n",
    "finetuning_improved(model = dt, paramGrid = paramGrid, evaluator = evaluator, train_data = withAttributeTrain_data, test_data = withAttributeTest_data)\n",
    "\n",
    "# Fine-tuning the model without new attributes\n",
    "print()\n",
    "print(\"Model performance without new attribute added: \")\n",
    "finetuning_improved(model = dt, paramGrid = paramGrid, evaluator = evaluator, train_data = noAttributeTrainData, test_data = noAttributeTestData)"
   ]
  },
  {
   "cell_type": "markdown",
   "metadata": {
    "id": "TA6J0g5q8swW"
   },
   "source": [
    "-------------------------------------------------------------------------------------------------------------------------------"
   ]
  },
  {
   "cell_type": "markdown",
   "metadata": {
    "id": "Sn1IZoBBBcox"
   },
   "source": [
    "##Outcome evaluation"
   ]
  }
 ],
 "metadata": {
  "colab": {
   "collapsed_sections": [
    "Xap9xTihSABB",
    "a3yOdDKaUnBh",
    "6KqRy45vTPJv",
    "QebTr0hLXJj1",
    "PZqoRJo9LGCW",
    "AXu-adjoLNYf",
    "obzBlZoFPsJd",
    "y7O6Ux-anY2O"
   ],
   "provenance": []
  },
  "kernelspec": {
   "display_name": "Python 3 (ipykernel)",
   "language": "python",
   "name": "python3"
  },
  "language_info": {
   "codemirror_mode": {
    "name": "ipython",
    "version": 3
   },
   "file_extension": ".py",
   "mimetype": "text/x-python",
   "name": "python",
   "nbconvert_exporter": "python",
   "pygments_lexer": "ipython3",
   "version": "3.11.5"
  }
 },
 "nbformat": 4,
 "nbformat_minor": 1
}
